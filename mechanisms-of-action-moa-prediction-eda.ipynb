{
 "cells": [
  {
   "cell_type": "code",
   "execution_count": 1,
   "metadata": {
    "_cell_guid": "79c7e3d0-c299-4dcb-8224-4455121ee9b0",
    "_uuid": "d629ff2d2480ee46fbb7e2d37f6b5fab8052498a",
    "execution": {
     "iopub.execute_input": "2020-10-05T07:01:51.017638Z",
     "iopub.status.busy": "2020-10-05T07:01:51.016831Z",
     "iopub.status.idle": "2020-10-05T07:01:52.125001Z",
     "shell.execute_reply": "2020-10-05T07:01:52.124100Z"
    },
    "papermill": {
     "duration": 1.169183,
     "end_time": "2020-10-05T07:01:52.125147",
     "exception": false,
     "start_time": "2020-10-05T07:01:50.955964",
     "status": "completed"
    },
    "tags": []
   },
   "outputs": [],
   "source": [
    "import numpy as np\n",
    "import pandas as pd\n",
    "\n",
    "import matplotlib.pyplot as plt\n",
    "import seaborn as sns"
   ]
  },
  {
   "cell_type": "code",
   "execution_count": 2,
   "metadata": {
    "execution": {
     "iopub.execute_input": "2020-10-05T07:01:52.238355Z",
     "iopub.status.busy": "2020-10-05T07:01:52.237461Z",
     "iopub.status.idle": "2020-10-05T07:01:59.953423Z",
     "shell.execute_reply": "2020-10-05T07:01:59.952575Z"
    },
    "papermill": {
     "duration": 7.77702,
     "end_time": "2020-10-05T07:01:59.953556",
     "exception": false,
     "start_time": "2020-10-05T07:01:52.176536",
     "status": "completed"
    },
    "tags": []
   },
   "outputs": [],
   "source": [
    "from sklearn.model_selection import train_test_split, cross_val_score, GridSearchCV, cross_val_predict, cross_validate\n",
    "from sklearn.ensemble import RandomForestClassifier, GradientBoostingClassifier, AdaBoostClassifier, ExtraTreesClassifier\n",
    "from sklearn.neighbors import KNeighborsClassifier\n",
    "from sklearn.preprocessing import StandardScaler, PolynomialFeatures, MinMaxScaler, LabelEncoder, RobustScaler, Normalizer\n",
    "from tensorflow.keras.callbacks import ModelCheckpoint, LearningRateScheduler, EarlyStopping, ReduceLROnPlateau, TensorBoard\n",
    "from sklearn.pipeline import Pipeline\n",
    "from xgboost import XGBRFClassifier\n",
    "from sklearn.svm import SVC\n",
    "from sklearn.multiclass import OneVsRestClassifier\n",
    "from sklearn.metrics import multilabel_confusion_matrix, label_ranking_loss, log_loss, roc_auc_score\n",
    "from sklearn.linear_model import LogisticRegression, Perceptron\n",
    "from sklearn.neural_network import MLPClassifier\n",
    "from sklearn.multioutput import MultiOutputClassifier\n",
    "from sklearn.decomposition import PCA \n",
    "import tensorflow as tf\n",
    "from tensorflow import keras\n",
    "from tensorflow.keras import layers"
   ]
  },
  {
   "cell_type": "code",
   "execution_count": 3,
   "metadata": {
    "execution": {
     "iopub.execute_input": "2020-10-05T07:02:00.071834Z",
     "iopub.status.busy": "2020-10-05T07:02:00.071024Z",
     "iopub.status.idle": "2020-10-05T07:02:06.988754Z",
     "shell.execute_reply": "2020-10-05T07:02:06.987930Z"
    },
    "papermill": {
     "duration": 6.984825,
     "end_time": "2020-10-05T07:02:06.988887",
     "exception": false,
     "start_time": "2020-10-05T07:02:00.004062",
     "status": "completed"
    },
    "tags": []
   },
   "outputs": [],
   "source": [
    "test_features = pd.read_csv('/kaggle/input/lish-moa/test_features.csv')\n",
    "train_features = pd.read_csv('/kaggle/input/lish-moa/train_features.csv')\n",
    "train_targets_scored = pd.read_csv('/kaggle/input/lish-moa/train_targets_scored.csv')\n",
    "train_targets_nonscored = pd.read_csv('/kaggle/input/lish-moa/train_targets_nonscored.csv')\n",
    "test_targets = pd.read_csv('/kaggle/input/lish-moa/sample_submission.csv')"
   ]
  },
  {
   "cell_type": "code",
   "execution_count": 4,
   "metadata": {
    "execution": {
     "iopub.execute_input": "2020-10-05T07:02:07.094767Z",
     "iopub.status.busy": "2020-10-05T07:02:07.093936Z",
     "iopub.status.idle": "2020-10-05T07:02:07.155178Z",
     "shell.execute_reply": "2020-10-05T07:02:07.154483Z"
    },
    "papermill": {
     "duration": 0.115954,
     "end_time": "2020-10-05T07:02:07.155304",
     "exception": false,
     "start_time": "2020-10-05T07:02:07.039350",
     "status": "completed"
    },
    "tags": []
   },
   "outputs": [
    {
     "name": "stdout",
     "output_type": "stream",
     "text": [
      "<class 'pandas.core.frame.DataFrame'>\n",
      "RangeIndex: 23814 entries, 0 to 23813\n",
      "Columns: 876 entries, sig_id to c-99\n",
      "dtypes: float64(872), int64(1), object(3)\n",
      "memory usage: 159.2+ MB\n"
     ]
    }
   ],
   "source": [
    "#quick look at our data types & null counts \n",
    "train_features.info()"
   ]
  },
  {
   "cell_type": "code",
   "execution_count": 5,
   "metadata": {
    "execution": {
     "iopub.execute_input": "2020-10-05T07:02:07.360083Z",
     "iopub.status.busy": "2020-10-05T07:02:07.359004Z",
     "iopub.status.idle": "2020-10-05T07:02:10.542739Z",
     "shell.execute_reply": "2020-10-05T07:02:10.543392Z"
    },
    "papermill": {
     "duration": 3.337487,
     "end_time": "2020-10-05T07:02:10.543579",
     "exception": false,
     "start_time": "2020-10-05T07:02:07.206092",
     "status": "completed"
    },
    "tags": []
   },
   "outputs": [
    {
     "data": {
      "text/html": [
       "<div>\n",
       "<style scoped>\n",
       "    .dataframe tbody tr th:only-of-type {\n",
       "        vertical-align: middle;\n",
       "    }\n",
       "\n",
       "    .dataframe tbody tr th {\n",
       "        vertical-align: top;\n",
       "    }\n",
       "\n",
       "    .dataframe thead th {\n",
       "        text-align: right;\n",
       "    }\n",
       "</style>\n",
       "<table border=\"1\" class=\"dataframe\">\n",
       "  <thead>\n",
       "    <tr style=\"text-align: right;\">\n",
       "      <th></th>\n",
       "      <th>cp_time</th>\n",
       "      <th>g-0</th>\n",
       "      <th>g-1</th>\n",
       "      <th>g-2</th>\n",
       "      <th>g-3</th>\n",
       "      <th>g-4</th>\n",
       "      <th>g-5</th>\n",
       "      <th>g-6</th>\n",
       "      <th>g-7</th>\n",
       "      <th>g-8</th>\n",
       "      <th>...</th>\n",
       "      <th>c-90</th>\n",
       "      <th>c-91</th>\n",
       "      <th>c-92</th>\n",
       "      <th>c-93</th>\n",
       "      <th>c-94</th>\n",
       "      <th>c-95</th>\n",
       "      <th>c-96</th>\n",
       "      <th>c-97</th>\n",
       "      <th>c-98</th>\n",
       "      <th>c-99</th>\n",
       "    </tr>\n",
       "  </thead>\n",
       "  <tbody>\n",
       "    <tr>\n",
       "      <th>count</th>\n",
       "      <td>23814.000000</td>\n",
       "      <td>23814.000000</td>\n",
       "      <td>23814.000000</td>\n",
       "      <td>23814.000000</td>\n",
       "      <td>23814.000000</td>\n",
       "      <td>23814.000000</td>\n",
       "      <td>23814.000000</td>\n",
       "      <td>23814.000000</td>\n",
       "      <td>23814.000000</td>\n",
       "      <td>23814.000000</td>\n",
       "      <td>...</td>\n",
       "      <td>23814.000000</td>\n",
       "      <td>23814.000000</td>\n",
       "      <td>23814.000000</td>\n",
       "      <td>23814.000000</td>\n",
       "      <td>23814.000000</td>\n",
       "      <td>23814.000000</td>\n",
       "      <td>23814.000000</td>\n",
       "      <td>23814.000000</td>\n",
       "      <td>23814.000000</td>\n",
       "      <td>23814.000000</td>\n",
       "    </tr>\n",
       "    <tr>\n",
       "      <th>mean</th>\n",
       "      <td>48.020156</td>\n",
       "      <td>0.248366</td>\n",
       "      <td>-0.095684</td>\n",
       "      <td>0.152253</td>\n",
       "      <td>0.081971</td>\n",
       "      <td>0.057347</td>\n",
       "      <td>-0.138836</td>\n",
       "      <td>0.035961</td>\n",
       "      <td>-0.202651</td>\n",
       "      <td>-0.190083</td>\n",
       "      <td>...</td>\n",
       "      <td>-0.469244</td>\n",
       "      <td>-0.461411</td>\n",
       "      <td>-0.513256</td>\n",
       "      <td>-0.500142</td>\n",
       "      <td>-0.507093</td>\n",
       "      <td>-0.353726</td>\n",
       "      <td>-0.463485</td>\n",
       "      <td>-0.378241</td>\n",
       "      <td>-0.470252</td>\n",
       "      <td>-0.301505</td>\n",
       "    </tr>\n",
       "    <tr>\n",
       "      <th>std</th>\n",
       "      <td>19.402807</td>\n",
       "      <td>1.393399</td>\n",
       "      <td>0.812363</td>\n",
       "      <td>1.035731</td>\n",
       "      <td>0.950012</td>\n",
       "      <td>1.032091</td>\n",
       "      <td>1.179388</td>\n",
       "      <td>0.882395</td>\n",
       "      <td>1.125494</td>\n",
       "      <td>1.749885</td>\n",
       "      <td>...</td>\n",
       "      <td>2.000488</td>\n",
       "      <td>2.042475</td>\n",
       "      <td>2.001714</td>\n",
       "      <td>2.107105</td>\n",
       "      <td>2.159589</td>\n",
       "      <td>1.629291</td>\n",
       "      <td>2.059725</td>\n",
       "      <td>1.703615</td>\n",
       "      <td>1.834828</td>\n",
       "      <td>1.407918</td>\n",
       "    </tr>\n",
       "    <tr>\n",
       "      <th>min</th>\n",
       "      <td>24.000000</td>\n",
       "      <td>-5.513000</td>\n",
       "      <td>-5.737000</td>\n",
       "      <td>-9.104000</td>\n",
       "      <td>-5.998000</td>\n",
       "      <td>-6.369000</td>\n",
       "      <td>-10.000000</td>\n",
       "      <td>-10.000000</td>\n",
       "      <td>-10.000000</td>\n",
       "      <td>-10.000000</td>\n",
       "      <td>...</td>\n",
       "      <td>-10.000000</td>\n",
       "      <td>-10.000000</td>\n",
       "      <td>-10.000000</td>\n",
       "      <td>-10.000000</td>\n",
       "      <td>-10.000000</td>\n",
       "      <td>-10.000000</td>\n",
       "      <td>-10.000000</td>\n",
       "      <td>-10.000000</td>\n",
       "      <td>-10.000000</td>\n",
       "      <td>-10.000000</td>\n",
       "    </tr>\n",
       "    <tr>\n",
       "      <th>25%</th>\n",
       "      <td>24.000000</td>\n",
       "      <td>-0.473075</td>\n",
       "      <td>-0.562200</td>\n",
       "      <td>-0.437750</td>\n",
       "      <td>-0.429575</td>\n",
       "      <td>-0.470925</td>\n",
       "      <td>-0.602225</td>\n",
       "      <td>-0.493900</td>\n",
       "      <td>-0.525175</td>\n",
       "      <td>-0.511675</td>\n",
       "      <td>...</td>\n",
       "      <td>-0.566175</td>\n",
       "      <td>-0.565975</td>\n",
       "      <td>-0.589975</td>\n",
       "      <td>-0.568700</td>\n",
       "      <td>-0.563775</td>\n",
       "      <td>-0.567975</td>\n",
       "      <td>-0.552575</td>\n",
       "      <td>-0.561000</td>\n",
       "      <td>-0.592600</td>\n",
       "      <td>-0.562900</td>\n",
       "    </tr>\n",
       "    <tr>\n",
       "      <th>50%</th>\n",
       "      <td>48.000000</td>\n",
       "      <td>-0.008850</td>\n",
       "      <td>-0.046600</td>\n",
       "      <td>0.075200</td>\n",
       "      <td>0.008050</td>\n",
       "      <td>-0.026900</td>\n",
       "      <td>-0.015650</td>\n",
       "      <td>-0.000650</td>\n",
       "      <td>-0.017900</td>\n",
       "      <td>0.010000</td>\n",
       "      <td>...</td>\n",
       "      <td>-0.009900</td>\n",
       "      <td>0.003250</td>\n",
       "      <td>-0.009100</td>\n",
       "      <td>-0.013750</td>\n",
       "      <td>-0.003300</td>\n",
       "      <td>-0.010250</td>\n",
       "      <td>-0.001250</td>\n",
       "      <td>-0.006800</td>\n",
       "      <td>0.014000</td>\n",
       "      <td>-0.019500</td>\n",
       "    </tr>\n",
       "    <tr>\n",
       "      <th>75%</th>\n",
       "      <td>72.000000</td>\n",
       "      <td>0.525700</td>\n",
       "      <td>0.403075</td>\n",
       "      <td>0.663925</td>\n",
       "      <td>0.463400</td>\n",
       "      <td>0.465375</td>\n",
       "      <td>0.510425</td>\n",
       "      <td>0.528725</td>\n",
       "      <td>0.411900</td>\n",
       "      <td>0.549225</td>\n",
       "      <td>...</td>\n",
       "      <td>0.457750</td>\n",
       "      <td>0.461500</td>\n",
       "      <td>0.445675</td>\n",
       "      <td>0.452900</td>\n",
       "      <td>0.470900</td>\n",
       "      <td>0.444750</td>\n",
       "      <td>0.465225</td>\n",
       "      <td>0.446400</td>\n",
       "      <td>0.461275</td>\n",
       "      <td>0.438650</td>\n",
       "    </tr>\n",
       "    <tr>\n",
       "      <th>max</th>\n",
       "      <td>72.000000</td>\n",
       "      <td>10.000000</td>\n",
       "      <td>5.039000</td>\n",
       "      <td>8.257000</td>\n",
       "      <td>10.000000</td>\n",
       "      <td>10.000000</td>\n",
       "      <td>7.282000</td>\n",
       "      <td>7.333000</td>\n",
       "      <td>5.473000</td>\n",
       "      <td>8.887000</td>\n",
       "      <td>...</td>\n",
       "      <td>4.069000</td>\n",
       "      <td>3.960000</td>\n",
       "      <td>3.927000</td>\n",
       "      <td>3.596000</td>\n",
       "      <td>3.747000</td>\n",
       "      <td>2.814000</td>\n",
       "      <td>3.505000</td>\n",
       "      <td>2.924000</td>\n",
       "      <td>3.111000</td>\n",
       "      <td>3.805000</td>\n",
       "    </tr>\n",
       "  </tbody>\n",
       "</table>\n",
       "<p>8 rows × 873 columns</p>\n",
       "</div>"
      ],
      "text/plain": [
       "            cp_time           g-0           g-1           g-2           g-3  \\\n",
       "count  23814.000000  23814.000000  23814.000000  23814.000000  23814.000000   \n",
       "mean      48.020156      0.248366     -0.095684      0.152253      0.081971   \n",
       "std       19.402807      1.393399      0.812363      1.035731      0.950012   \n",
       "min       24.000000     -5.513000     -5.737000     -9.104000     -5.998000   \n",
       "25%       24.000000     -0.473075     -0.562200     -0.437750     -0.429575   \n",
       "50%       48.000000     -0.008850     -0.046600      0.075200      0.008050   \n",
       "75%       72.000000      0.525700      0.403075      0.663925      0.463400   \n",
       "max       72.000000     10.000000      5.039000      8.257000     10.000000   \n",
       "\n",
       "                g-4           g-5           g-6           g-7           g-8  \\\n",
       "count  23814.000000  23814.000000  23814.000000  23814.000000  23814.000000   \n",
       "mean       0.057347     -0.138836      0.035961     -0.202651     -0.190083   \n",
       "std        1.032091      1.179388      0.882395      1.125494      1.749885   \n",
       "min       -6.369000    -10.000000    -10.000000    -10.000000    -10.000000   \n",
       "25%       -0.470925     -0.602225     -0.493900     -0.525175     -0.511675   \n",
       "50%       -0.026900     -0.015650     -0.000650     -0.017900      0.010000   \n",
       "75%        0.465375      0.510425      0.528725      0.411900      0.549225   \n",
       "max       10.000000      7.282000      7.333000      5.473000      8.887000   \n",
       "\n",
       "       ...          c-90          c-91          c-92          c-93  \\\n",
       "count  ...  23814.000000  23814.000000  23814.000000  23814.000000   \n",
       "mean   ...     -0.469244     -0.461411     -0.513256     -0.500142   \n",
       "std    ...      2.000488      2.042475      2.001714      2.107105   \n",
       "min    ...    -10.000000    -10.000000    -10.000000    -10.000000   \n",
       "25%    ...     -0.566175     -0.565975     -0.589975     -0.568700   \n",
       "50%    ...     -0.009900      0.003250     -0.009100     -0.013750   \n",
       "75%    ...      0.457750      0.461500      0.445675      0.452900   \n",
       "max    ...      4.069000      3.960000      3.927000      3.596000   \n",
       "\n",
       "               c-94          c-95          c-96          c-97          c-98  \\\n",
       "count  23814.000000  23814.000000  23814.000000  23814.000000  23814.000000   \n",
       "mean      -0.507093     -0.353726     -0.463485     -0.378241     -0.470252   \n",
       "std        2.159589      1.629291      2.059725      1.703615      1.834828   \n",
       "min      -10.000000    -10.000000    -10.000000    -10.000000    -10.000000   \n",
       "25%       -0.563775     -0.567975     -0.552575     -0.561000     -0.592600   \n",
       "50%       -0.003300     -0.010250     -0.001250     -0.006800      0.014000   \n",
       "75%        0.470900      0.444750      0.465225      0.446400      0.461275   \n",
       "max        3.747000      2.814000      3.505000      2.924000      3.111000   \n",
       "\n",
       "               c-99  \n",
       "count  23814.000000  \n",
       "mean      -0.301505  \n",
       "std        1.407918  \n",
       "min      -10.000000  \n",
       "25%       -0.562900  \n",
       "50%       -0.019500  \n",
       "75%        0.438650  \n",
       "max        3.805000  \n",
       "\n",
       "[8 rows x 873 columns]"
      ]
     },
     "execution_count": 5,
     "metadata": {},
     "output_type": "execute_result"
    }
   ],
   "source": [
    "# To better understand the numeric data, we want to use the .describe() method. \n",
    "# This gives us an understanding of the central tendencies of the data. \n",
    "\n",
    "train_features.describe()"
   ]
  },
  {
   "cell_type": "code",
   "execution_count": 6,
   "metadata": {
    "execution": {
     "iopub.execute_input": "2020-10-05T07:02:10.662244Z",
     "iopub.status.busy": "2020-10-05T07:02:10.658202Z",
     "iopub.status.idle": "2020-10-05T07:02:10.690855Z",
     "shell.execute_reply": "2020-10-05T07:02:10.690042Z"
    },
    "papermill": {
     "duration": 0.092415,
     "end_time": "2020-10-05T07:02:10.690991",
     "exception": false,
     "start_time": "2020-10-05T07:02:10.598576",
     "status": "completed"
    },
    "tags": []
   },
   "outputs": [
    {
     "data": {
      "text/html": [
       "<div>\n",
       "<style scoped>\n",
       "    .dataframe tbody tr th:only-of-type {\n",
       "        vertical-align: middle;\n",
       "    }\n",
       "\n",
       "    .dataframe tbody tr th {\n",
       "        vertical-align: top;\n",
       "    }\n",
       "\n",
       "    .dataframe thead th {\n",
       "        text-align: right;\n",
       "    }\n",
       "</style>\n",
       "<table border=\"1\" class=\"dataframe\">\n",
       "  <thead>\n",
       "    <tr style=\"text-align: right;\">\n",
       "      <th></th>\n",
       "      <th>sig_id</th>\n",
       "      <th>cp_type</th>\n",
       "      <th>cp_time</th>\n",
       "      <th>cp_dose</th>\n",
       "      <th>g-0</th>\n",
       "      <th>g-1</th>\n",
       "      <th>g-2</th>\n",
       "      <th>g-3</th>\n",
       "      <th>g-4</th>\n",
       "      <th>g-5</th>\n",
       "      <th>...</th>\n",
       "      <th>c-90</th>\n",
       "      <th>c-91</th>\n",
       "      <th>c-92</th>\n",
       "      <th>c-93</th>\n",
       "      <th>c-94</th>\n",
       "      <th>c-95</th>\n",
       "      <th>c-96</th>\n",
       "      <th>c-97</th>\n",
       "      <th>c-98</th>\n",
       "      <th>c-99</th>\n",
       "    </tr>\n",
       "  </thead>\n",
       "  <tbody>\n",
       "    <tr>\n",
       "      <th>0</th>\n",
       "      <td>id_000644bb2</td>\n",
       "      <td>trt_cp</td>\n",
       "      <td>24</td>\n",
       "      <td>D1</td>\n",
       "      <td>1.0620</td>\n",
       "      <td>0.5577</td>\n",
       "      <td>-0.2479</td>\n",
       "      <td>-0.6208</td>\n",
       "      <td>-0.1944</td>\n",
       "      <td>-1.0120</td>\n",
       "      <td>...</td>\n",
       "      <td>0.2862</td>\n",
       "      <td>0.2584</td>\n",
       "      <td>0.8076</td>\n",
       "      <td>0.5523</td>\n",
       "      <td>-0.1912</td>\n",
       "      <td>0.6584</td>\n",
       "      <td>-0.3981</td>\n",
       "      <td>0.2139</td>\n",
       "      <td>0.3801</td>\n",
       "      <td>0.4176</td>\n",
       "    </tr>\n",
       "    <tr>\n",
       "      <th>1</th>\n",
       "      <td>id_000779bfc</td>\n",
       "      <td>trt_cp</td>\n",
       "      <td>72</td>\n",
       "      <td>D1</td>\n",
       "      <td>0.0743</td>\n",
       "      <td>0.4087</td>\n",
       "      <td>0.2991</td>\n",
       "      <td>0.0604</td>\n",
       "      <td>1.0190</td>\n",
       "      <td>0.5207</td>\n",
       "      <td>...</td>\n",
       "      <td>-0.4265</td>\n",
       "      <td>0.7543</td>\n",
       "      <td>0.4708</td>\n",
       "      <td>0.0230</td>\n",
       "      <td>0.2957</td>\n",
       "      <td>0.4899</td>\n",
       "      <td>0.1522</td>\n",
       "      <td>0.1241</td>\n",
       "      <td>0.6077</td>\n",
       "      <td>0.7371</td>\n",
       "    </tr>\n",
       "    <tr>\n",
       "      <th>2</th>\n",
       "      <td>id_000a6266a</td>\n",
       "      <td>trt_cp</td>\n",
       "      <td>48</td>\n",
       "      <td>D1</td>\n",
       "      <td>0.6280</td>\n",
       "      <td>0.5817</td>\n",
       "      <td>1.5540</td>\n",
       "      <td>-0.0764</td>\n",
       "      <td>-0.0323</td>\n",
       "      <td>1.2390</td>\n",
       "      <td>...</td>\n",
       "      <td>-0.7250</td>\n",
       "      <td>-0.6297</td>\n",
       "      <td>0.6103</td>\n",
       "      <td>0.0223</td>\n",
       "      <td>-1.3240</td>\n",
       "      <td>-0.3174</td>\n",
       "      <td>-0.6417</td>\n",
       "      <td>-0.2187</td>\n",
       "      <td>-1.4080</td>\n",
       "      <td>0.6931</td>\n",
       "    </tr>\n",
       "  </tbody>\n",
       "</table>\n",
       "<p>3 rows × 876 columns</p>\n",
       "</div>"
      ],
      "text/plain": [
       "         sig_id cp_type  cp_time cp_dose     g-0     g-1     g-2     g-3  \\\n",
       "0  id_000644bb2  trt_cp       24      D1  1.0620  0.5577 -0.2479 -0.6208   \n",
       "1  id_000779bfc  trt_cp       72      D1  0.0743  0.4087  0.2991  0.0604   \n",
       "2  id_000a6266a  trt_cp       48      D1  0.6280  0.5817  1.5540 -0.0764   \n",
       "\n",
       "      g-4     g-5  ...    c-90    c-91    c-92    c-93    c-94    c-95  \\\n",
       "0 -0.1944 -1.0120  ...  0.2862  0.2584  0.8076  0.5523 -0.1912  0.6584   \n",
       "1  1.0190  0.5207  ... -0.4265  0.7543  0.4708  0.0230  0.2957  0.4899   \n",
       "2 -0.0323  1.2390  ... -0.7250 -0.6297  0.6103  0.0223 -1.3240 -0.3174   \n",
       "\n",
       "     c-96    c-97    c-98    c-99  \n",
       "0 -0.3981  0.2139  0.3801  0.4176  \n",
       "1  0.1522  0.1241  0.6077  0.7371  \n",
       "2 -0.6417 -0.2187 -1.4080  0.6931  \n",
       "\n",
       "[3 rows x 876 columns]"
      ]
     },
     "execution_count": 6,
     "metadata": {},
     "output_type": "execute_result"
    }
   ],
   "source": [
    "# Reading the train dataset\n",
    "train_features.head(3)"
   ]
  },
  {
   "cell_type": "code",
   "execution_count": 7,
   "metadata": {
    "execution": {
     "iopub.execute_input": "2020-10-05T07:02:10.830321Z",
     "iopub.status.busy": "2020-10-05T07:02:10.815407Z",
     "iopub.status.idle": "2020-10-05T07:02:10.835864Z",
     "shell.execute_reply": "2020-10-05T07:02:10.836553Z"
    },
    "papermill": {
     "duration": 0.091633,
     "end_time": "2020-10-05T07:02:10.836758",
     "exception": false,
     "start_time": "2020-10-05T07:02:10.745125",
     "status": "completed"
    },
    "tags": []
   },
   "outputs": [
    {
     "data": {
      "text/html": [
       "<div>\n",
       "<style scoped>\n",
       "    .dataframe tbody tr th:only-of-type {\n",
       "        vertical-align: middle;\n",
       "    }\n",
       "\n",
       "    .dataframe tbody tr th {\n",
       "        vertical-align: top;\n",
       "    }\n",
       "\n",
       "    .dataframe thead th {\n",
       "        text-align: right;\n",
       "    }\n",
       "</style>\n",
       "<table border=\"1\" class=\"dataframe\">\n",
       "  <thead>\n",
       "    <tr style=\"text-align: right;\">\n",
       "      <th></th>\n",
       "      <th>sig_id</th>\n",
       "      <th>cp_type</th>\n",
       "      <th>cp_time</th>\n",
       "      <th>cp_dose</th>\n",
       "      <th>g-0</th>\n",
       "      <th>g-1</th>\n",
       "      <th>g-2</th>\n",
       "      <th>g-3</th>\n",
       "      <th>g-4</th>\n",
       "      <th>g-5</th>\n",
       "      <th>...</th>\n",
       "      <th>c-90</th>\n",
       "      <th>c-91</th>\n",
       "      <th>c-92</th>\n",
       "      <th>c-93</th>\n",
       "      <th>c-94</th>\n",
       "      <th>c-95</th>\n",
       "      <th>c-96</th>\n",
       "      <th>c-97</th>\n",
       "      <th>c-98</th>\n",
       "      <th>c-99</th>\n",
       "    </tr>\n",
       "  </thead>\n",
       "  <tbody>\n",
       "    <tr>\n",
       "      <th>0</th>\n",
       "      <td>id_0004d9e33</td>\n",
       "      <td>trt_cp</td>\n",
       "      <td>24</td>\n",
       "      <td>D1</td>\n",
       "      <td>-0.5458</td>\n",
       "      <td>0.1306</td>\n",
       "      <td>-0.5135</td>\n",
       "      <td>0.4408</td>\n",
       "      <td>1.5500</td>\n",
       "      <td>-0.1644</td>\n",
       "      <td>...</td>\n",
       "      <td>0.0981</td>\n",
       "      <td>0.7978</td>\n",
       "      <td>-0.143</td>\n",
       "      <td>-0.2067</td>\n",
       "      <td>-0.2303</td>\n",
       "      <td>-0.1193</td>\n",
       "      <td>0.0210</td>\n",
       "      <td>-0.0502</td>\n",
       "      <td>0.1510</td>\n",
       "      <td>-0.7750</td>\n",
       "    </tr>\n",
       "    <tr>\n",
       "      <th>1</th>\n",
       "      <td>id_001897cda</td>\n",
       "      <td>trt_cp</td>\n",
       "      <td>72</td>\n",
       "      <td>D1</td>\n",
       "      <td>-0.1829</td>\n",
       "      <td>0.2320</td>\n",
       "      <td>1.2080</td>\n",
       "      <td>-0.4522</td>\n",
       "      <td>-0.3652</td>\n",
       "      <td>-0.3319</td>\n",
       "      <td>...</td>\n",
       "      <td>-0.1190</td>\n",
       "      <td>-0.1852</td>\n",
       "      <td>-1.031</td>\n",
       "      <td>-1.3670</td>\n",
       "      <td>-0.3690</td>\n",
       "      <td>-0.5382</td>\n",
       "      <td>0.0359</td>\n",
       "      <td>-0.4764</td>\n",
       "      <td>-1.3810</td>\n",
       "      <td>-0.7300</td>\n",
       "    </tr>\n",
       "    <tr>\n",
       "      <th>2</th>\n",
       "      <td>id_002429b5b</td>\n",
       "      <td>ctl_vehicle</td>\n",
       "      <td>24</td>\n",
       "      <td>D1</td>\n",
       "      <td>0.1852</td>\n",
       "      <td>-0.1404</td>\n",
       "      <td>-0.3911</td>\n",
       "      <td>0.1310</td>\n",
       "      <td>-1.4380</td>\n",
       "      <td>0.2455</td>\n",
       "      <td>...</td>\n",
       "      <td>-0.2261</td>\n",
       "      <td>0.3370</td>\n",
       "      <td>-1.384</td>\n",
       "      <td>0.8604</td>\n",
       "      <td>-1.9530</td>\n",
       "      <td>-1.0140</td>\n",
       "      <td>0.8662</td>\n",
       "      <td>1.0160</td>\n",
       "      <td>0.4924</td>\n",
       "      <td>-0.1942</td>\n",
       "    </tr>\n",
       "  </tbody>\n",
       "</table>\n",
       "<p>3 rows × 876 columns</p>\n",
       "</div>"
      ],
      "text/plain": [
       "         sig_id      cp_type  cp_time cp_dose     g-0     g-1     g-2     g-3  \\\n",
       "0  id_0004d9e33       trt_cp       24      D1 -0.5458  0.1306 -0.5135  0.4408   \n",
       "1  id_001897cda       trt_cp       72      D1 -0.1829  0.2320  1.2080 -0.4522   \n",
       "2  id_002429b5b  ctl_vehicle       24      D1  0.1852 -0.1404 -0.3911  0.1310   \n",
       "\n",
       "      g-4     g-5  ...    c-90    c-91   c-92    c-93    c-94    c-95    c-96  \\\n",
       "0  1.5500 -0.1644  ...  0.0981  0.7978 -0.143 -0.2067 -0.2303 -0.1193  0.0210   \n",
       "1 -0.3652 -0.3319  ... -0.1190 -0.1852 -1.031 -1.3670 -0.3690 -0.5382  0.0359   \n",
       "2 -1.4380  0.2455  ... -0.2261  0.3370 -1.384  0.8604 -1.9530 -1.0140  0.8662   \n",
       "\n",
       "     c-97    c-98    c-99  \n",
       "0 -0.0502  0.1510 -0.7750  \n",
       "1 -0.4764 -1.3810 -0.7300  \n",
       "2  1.0160  0.4924 -0.1942  \n",
       "\n",
       "[3 rows x 876 columns]"
      ]
     },
     "execution_count": 7,
     "metadata": {},
     "output_type": "execute_result"
    }
   ],
   "source": [
    "# Reading the test dataset \n",
    "test_features.head(3)"
   ]
  },
  {
   "cell_type": "code",
   "execution_count": 8,
   "metadata": {
    "execution": {
     "iopub.execute_input": "2020-10-05T07:02:10.957115Z",
     "iopub.status.busy": "2020-10-05T07:02:10.955950Z",
     "iopub.status.idle": "2020-10-05T07:02:10.960730Z",
     "shell.execute_reply": "2020-10-05T07:02:10.960061Z"
    },
    "papermill": {
     "duration": 0.06452,
     "end_time": "2020-10-05T07:02:10.960862",
     "exception": false,
     "start_time": "2020-10-05T07:02:10.896342",
     "status": "completed"
    },
    "tags": []
   },
   "outputs": [
    {
     "name": "stdout",
     "output_type": "stream",
     "text": [
      "The Training dataset has 23814 rows and 876 columns.\n"
     ]
    }
   ],
   "source": [
    "# To calculate the rows and columns in the dataset\n",
    "print('The Training dataset has {} rows and {} columns.'.format(len(train_features), len(train_features.columns)))"
   ]
  },
  {
   "cell_type": "code",
   "execution_count": 9,
   "metadata": {
    "execution": {
     "iopub.execute_input": "2020-10-05T07:02:11.086267Z",
     "iopub.status.busy": "2020-10-05T07:02:11.085319Z",
     "iopub.status.idle": "2020-10-05T07:02:11.089571Z",
     "shell.execute_reply": "2020-10-05T07:02:11.088949Z"
    },
    "papermill": {
     "duration": 0.069365,
     "end_time": "2020-10-05T07:02:11.089748",
     "exception": false,
     "start_time": "2020-10-05T07:02:11.020383",
     "status": "completed"
    },
    "tags": []
   },
   "outputs": [
    {
     "name": "stdout",
     "output_type": "stream",
     "text": [
      "The Test dataset has 3982 rows and 876 columns.\n"
     ]
    }
   ],
   "source": [
    "print('The Test dataset has {} rows and {} columns.'.format(len(test_features), len(test_features.columns)))"
   ]
  },
  {
   "cell_type": "markdown",
   "metadata": {
    "papermill": {
     "duration": 0.063983,
     "end_time": "2020-10-05T07:02:11.212185",
     "exception": false,
     "start_time": "2020-10-05T07:02:11.148202",
     "status": "completed"
    },
    "tags": []
   },
   "source": [
    "## categorical data in the dataset"
   ]
  },
  {
   "cell_type": "code",
   "execution_count": 10,
   "metadata": {
    "execution": {
     "iopub.execute_input": "2020-10-05T07:02:11.338313Z",
     "iopub.status.busy": "2020-10-05T07:02:11.337279Z",
     "iopub.status.idle": "2020-10-05T07:02:11.838944Z",
     "shell.execute_reply": "2020-10-05T07:02:11.837862Z"
    },
    "papermill": {
     "duration": 0.568098,
     "end_time": "2020-10-05T07:02:11.839148",
     "exception": false,
     "start_time": "2020-10-05T07:02:11.271050",
     "status": "completed"
    },
    "tags": []
   },
   "outputs": [
    {
     "data": {
      "text/plain": [
       "Text(0.5, 0.98, 'Distribution in Train dataset of Type, Time and Dose')"
      ]
     },
     "execution_count": 10,
     "metadata": {},
     "output_type": "execute_result"
    },
    {
     "data": {
      "image/png": "[encoded data removed]",
      "text/plain": [
       "<Figure size 1440x360 with 3 Axes>"
      ]
     },
     "metadata": {
      "needs_background": "light"
     },
     "output_type": "display_data"
    }
   ],
   "source": [
    "fig, ax = plt.subplots(1, 3, figsize=(20, 5))\n",
    "\n",
    "\n",
    "sns.countplot(train_features['cp_type'],palette=(\"Blues\"), ax=ax[0])\n",
    "ax[0].set_title('cp_type distribution')\n",
    "\n",
    "sns.countplot(train_features['cp_time'],palette=(\"Blues\"), ax=ax[1])\n",
    "ax[1].set_title('cp_time distribution')\n",
    "\n",
    "sns.countplot(train_features['cp_dose'],palette=(\"Blues\"), ax=ax[2])\n",
    "ax[2].set_title('cp_dose distribution')\n",
    "\n",
    "fig.suptitle('Distribution in Train dataset of Type, Time and Dose')"
   ]
  },
  {
   "cell_type": "code",
   "execution_count": 11,
   "metadata": {
    "execution": {
     "iopub.execute_input": "2020-10-05T07:02:11.979270Z",
     "iopub.status.busy": "2020-10-05T07:02:11.978178Z",
     "iopub.status.idle": "2020-10-05T07:02:12.396148Z",
     "shell.execute_reply": "2020-10-05T07:02:12.395091Z"
    },
    "papermill": {
     "duration": 0.497765,
     "end_time": "2020-10-05T07:02:12.396340",
     "exception": false,
     "start_time": "2020-10-05T07:02:11.898575",
     "status": "completed"
    },
    "tags": []
   },
   "outputs": [
    {
     "data": {
      "text/plain": [
       "Text(0.5, 0.98, 'Distribution in Test dataset of Type, Time and Dose')"
      ]
     },
     "execution_count": 11,
     "metadata": {},
     "output_type": "execute_result"
    },
    {
     "data": {
      "image/png": "[encoded data removed]",
      "text/plain": [
       "<Figure size 1440x360 with 3 Axes>"
      ]
     },
     "metadata": {
      "needs_background": "light"
     },
     "output_type": "display_data"
    }
   ],
   "source": [
    "fig, ax = plt.subplots(1, 3, figsize=(20, 5))\n",
    "\n",
    "\n",
    "sns.countplot(test_features['cp_type'],palette=(\"BuGn_r\"), ax=ax[0])\n",
    "ax[0].set_title('cp_type distribution')\n",
    "\n",
    "sns.countplot(test_features['cp_time'],palette=(\"BuGn_r\"), ax=ax[1])\n",
    "ax[1].set_title('cp_time distribution')\n",
    "\n",
    "sns.countplot(test_features['cp_dose'],palette=(\"BuGn_r\"), ax=ax[2])\n",
    "ax[2].set_title('cp_dose distribution')\n",
    "\n",
    "fig.suptitle('Distribution in Test dataset of Type, Time and Dose')"
   ]
  },
  {
   "cell_type": "code",
   "execution_count": 12,
   "metadata": {
    "execution": {
     "iopub.execute_input": "2020-10-05T07:02:12.528338Z",
     "iopub.status.busy": "2020-10-05T07:02:12.527504Z",
     "iopub.status.idle": "2020-10-05T07:02:12.537996Z",
     "shell.execute_reply": "2020-10-05T07:02:12.537210Z"
    },
    "papermill": {
     "duration": 0.079639,
     "end_time": "2020-10-05T07:02:12.538142",
     "exception": false,
     "start_time": "2020-10-05T07:02:12.458503",
     "status": "completed"
    },
    "tags": []
   },
   "outputs": [],
   "source": [
    "train_features['cp_type'] = train_features['cp_type'].astype('category')\n",
    "train_features['cp_type'].cat.categories = [0, 1]\n",
    "train_features['cp_type'] = train_features['cp_type'].astype(\"int\")"
   ]
  },
  {
   "cell_type": "code",
   "execution_count": 13,
   "metadata": {
    "execution": {
     "iopub.execute_input": "2020-10-05T07:02:12.669382Z",
     "iopub.status.busy": "2020-10-05T07:02:12.668592Z",
     "iopub.status.idle": "2020-10-05T07:02:12.676316Z",
     "shell.execute_reply": "2020-10-05T07:02:12.675508Z"
    },
    "papermill": {
     "duration": 0.079308,
     "end_time": "2020-10-05T07:02:12.676448",
     "exception": false,
     "start_time": "2020-10-05T07:02:12.597140",
     "status": "completed"
    },
    "tags": []
   },
   "outputs": [],
   "source": [
    "train_features['cp_dose'] = train_features['cp_dose'].astype('category')\n",
    "train_features['cp_dose'].cat.categories = [0, 1]\n",
    "train_features['cp_dose'] = train_features['cp_dose'].astype(\"int\")"
   ]
  },
  {
   "cell_type": "code",
   "execution_count": 14,
   "metadata": {
    "execution": {
     "iopub.execute_input": "2020-10-05T07:02:12.815970Z",
     "iopub.status.busy": "2020-10-05T07:02:12.813468Z",
     "iopub.status.idle": "2020-10-05T07:02:12.821375Z",
     "shell.execute_reply": "2020-10-05T07:02:12.820531Z"
    },
    "papermill": {
     "duration": 0.080523,
     "end_time": "2020-10-05T07:02:12.821507",
     "exception": false,
     "start_time": "2020-10-05T07:02:12.740984",
     "status": "completed"
    },
    "tags": []
   },
   "outputs": [],
   "source": [
    "train_features['cp_time'] = train_features['cp_time'].astype('category')\n",
    "train_features['cp_time'].cat.categories = [0, 1, 2]\n",
    "train_features['cp_time'] = train_features['cp_time'].astype(\"int\")"
   ]
  },
  {
   "cell_type": "code",
   "execution_count": 15,
   "metadata": {
    "execution": {
     "iopub.execute_input": "2020-10-05T07:02:12.982448Z",
     "iopub.status.busy": "2020-10-05T07:02:12.977378Z",
     "iopub.status.idle": "2020-10-05T07:02:12.988798Z",
     "shell.execute_reply": "2020-10-05T07:02:12.987984Z"
    },
    "papermill": {
     "duration": 0.103369,
     "end_time": "2020-10-05T07:02:12.988937",
     "exception": false,
     "start_time": "2020-10-05T07:02:12.885568",
     "status": "completed"
    },
    "tags": []
   },
   "outputs": [
    {
     "data": {
      "text/html": [
       "<div>\n",
       "<style scoped>\n",
       "    .dataframe tbody tr th:only-of-type {\n",
       "        vertical-align: middle;\n",
       "    }\n",
       "\n",
       "    .dataframe tbody tr th {\n",
       "        vertical-align: top;\n",
       "    }\n",
       "\n",
       "    .dataframe thead th {\n",
       "        text-align: right;\n",
       "    }\n",
       "</style>\n",
       "<table border=\"1\" class=\"dataframe\">\n",
       "  <thead>\n",
       "    <tr style=\"text-align: right;\">\n",
       "      <th></th>\n",
       "      <th>sig_id</th>\n",
       "      <th>cp_type</th>\n",
       "      <th>cp_time</th>\n",
       "      <th>cp_dose</th>\n",
       "      <th>g-0</th>\n",
       "      <th>g-1</th>\n",
       "      <th>g-2</th>\n",
       "      <th>g-3</th>\n",
       "      <th>g-4</th>\n",
       "      <th>g-5</th>\n",
       "      <th>...</th>\n",
       "      <th>c-90</th>\n",
       "      <th>c-91</th>\n",
       "      <th>c-92</th>\n",
       "      <th>c-93</th>\n",
       "      <th>c-94</th>\n",
       "      <th>c-95</th>\n",
       "      <th>c-96</th>\n",
       "      <th>c-97</th>\n",
       "      <th>c-98</th>\n",
       "      <th>c-99</th>\n",
       "    </tr>\n",
       "  </thead>\n",
       "  <tbody>\n",
       "    <tr>\n",
       "      <th>0</th>\n",
       "      <td>id_000644bb2</td>\n",
       "      <td>1</td>\n",
       "      <td>0</td>\n",
       "      <td>0</td>\n",
       "      <td>1.0620</td>\n",
       "      <td>0.5577</td>\n",
       "      <td>-0.2479</td>\n",
       "      <td>-0.6208</td>\n",
       "      <td>-0.1944</td>\n",
       "      <td>-1.0120</td>\n",
       "      <td>...</td>\n",
       "      <td>0.2862</td>\n",
       "      <td>0.2584</td>\n",
       "      <td>0.8076</td>\n",
       "      <td>0.5523</td>\n",
       "      <td>-0.1912</td>\n",
       "      <td>0.6584</td>\n",
       "      <td>-0.3981</td>\n",
       "      <td>0.2139</td>\n",
       "      <td>0.3801</td>\n",
       "      <td>0.4176</td>\n",
       "    </tr>\n",
       "    <tr>\n",
       "      <th>1</th>\n",
       "      <td>id_000779bfc</td>\n",
       "      <td>1</td>\n",
       "      <td>2</td>\n",
       "      <td>0</td>\n",
       "      <td>0.0743</td>\n",
       "      <td>0.4087</td>\n",
       "      <td>0.2991</td>\n",
       "      <td>0.0604</td>\n",
       "      <td>1.0190</td>\n",
       "      <td>0.5207</td>\n",
       "      <td>...</td>\n",
       "      <td>-0.4265</td>\n",
       "      <td>0.7543</td>\n",
       "      <td>0.4708</td>\n",
       "      <td>0.0230</td>\n",
       "      <td>0.2957</td>\n",
       "      <td>0.4899</td>\n",
       "      <td>0.1522</td>\n",
       "      <td>0.1241</td>\n",
       "      <td>0.6077</td>\n",
       "      <td>0.7371</td>\n",
       "    </tr>\n",
       "    <tr>\n",
       "      <th>2</th>\n",
       "      <td>id_000a6266a</td>\n",
       "      <td>1</td>\n",
       "      <td>1</td>\n",
       "      <td>0</td>\n",
       "      <td>0.6280</td>\n",
       "      <td>0.5817</td>\n",
       "      <td>1.5540</td>\n",
       "      <td>-0.0764</td>\n",
       "      <td>-0.0323</td>\n",
       "      <td>1.2390</td>\n",
       "      <td>...</td>\n",
       "      <td>-0.7250</td>\n",
       "      <td>-0.6297</td>\n",
       "      <td>0.6103</td>\n",
       "      <td>0.0223</td>\n",
       "      <td>-1.3240</td>\n",
       "      <td>-0.3174</td>\n",
       "      <td>-0.6417</td>\n",
       "      <td>-0.2187</td>\n",
       "      <td>-1.4080</td>\n",
       "      <td>0.6931</td>\n",
       "    </tr>\n",
       "    <tr>\n",
       "      <th>3</th>\n",
       "      <td>id_0015fd391</td>\n",
       "      <td>1</td>\n",
       "      <td>1</td>\n",
       "      <td>0</td>\n",
       "      <td>-0.5138</td>\n",
       "      <td>-0.2491</td>\n",
       "      <td>-0.2656</td>\n",
       "      <td>0.5288</td>\n",
       "      <td>4.0620</td>\n",
       "      <td>-0.8095</td>\n",
       "      <td>...</td>\n",
       "      <td>-2.0990</td>\n",
       "      <td>-0.6441</td>\n",
       "      <td>-5.6300</td>\n",
       "      <td>-1.3780</td>\n",
       "      <td>-0.8632</td>\n",
       "      <td>-1.2880</td>\n",
       "      <td>-1.6210</td>\n",
       "      <td>-0.8784</td>\n",
       "      <td>-0.3876</td>\n",
       "      <td>-0.8154</td>\n",
       "    </tr>\n",
       "    <tr>\n",
       "      <th>4</th>\n",
       "      <td>id_001626bd3</td>\n",
       "      <td>1</td>\n",
       "      <td>2</td>\n",
       "      <td>1</td>\n",
       "      <td>-0.3254</td>\n",
       "      <td>-0.4009</td>\n",
       "      <td>0.9700</td>\n",
       "      <td>0.6919</td>\n",
       "      <td>1.4180</td>\n",
       "      <td>-0.8244</td>\n",
       "      <td>...</td>\n",
       "      <td>0.0042</td>\n",
       "      <td>0.0048</td>\n",
       "      <td>0.6670</td>\n",
       "      <td>1.0690</td>\n",
       "      <td>0.5523</td>\n",
       "      <td>-0.3031</td>\n",
       "      <td>0.1094</td>\n",
       "      <td>0.2885</td>\n",
       "      <td>-0.3786</td>\n",
       "      <td>0.7125</td>\n",
       "    </tr>\n",
       "  </tbody>\n",
       "</table>\n",
       "<p>5 rows × 876 columns</p>\n",
       "</div>"
      ],
      "text/plain": [
       "         sig_id  cp_type  cp_time  cp_dose     g-0     g-1     g-2     g-3  \\\n",
       "0  id_000644bb2        1        0        0  1.0620  0.5577 -0.2479 -0.6208   \n",
       "1  id_000779bfc        1        2        0  0.0743  0.4087  0.2991  0.0604   \n",
       "2  id_000a6266a        1        1        0  0.6280  0.5817  1.5540 -0.0764   \n",
       "3  id_0015fd391        1        1        0 -0.5138 -0.2491 -0.2656  0.5288   \n",
       "4  id_001626bd3        1        2        1 -0.3254 -0.4009  0.9700  0.6919   \n",
       "\n",
       "      g-4     g-5  ...    c-90    c-91    c-92    c-93    c-94    c-95  \\\n",
       "0 -0.1944 -1.0120  ...  0.2862  0.2584  0.8076  0.5523 -0.1912  0.6584   \n",
       "1  1.0190  0.5207  ... -0.4265  0.7543  0.4708  0.0230  0.2957  0.4899   \n",
       "2 -0.0323  1.2390  ... -0.7250 -0.6297  0.6103  0.0223 -1.3240 -0.3174   \n",
       "3  4.0620 -0.8095  ... -2.0990 -0.6441 -5.6300 -1.3780 -0.8632 -1.2880   \n",
       "4  1.4180 -0.8244  ...  0.0042  0.0048  0.6670  1.0690  0.5523 -0.3031   \n",
       "\n",
       "     c-96    c-97    c-98    c-99  \n",
       "0 -0.3981  0.2139  0.3801  0.4176  \n",
       "1  0.1522  0.1241  0.6077  0.7371  \n",
       "2 -0.6417 -0.2187 -1.4080  0.6931  \n",
       "3 -1.6210 -0.8784 -0.3876 -0.8154  \n",
       "4  0.1094  0.2885 -0.3786  0.7125  \n",
       "\n",
       "[5 rows x 876 columns]"
      ]
     },
     "execution_count": 15,
     "metadata": {},
     "output_type": "execute_result"
    }
   ],
   "source": [
    "train_features.head()"
   ]
  },
  {
   "cell_type": "markdown",
   "metadata": {
    "papermill": {
     "duration": 0.063839,
     "end_time": "2020-10-05T07:02:13.117437",
     "exception": false,
     "start_time": "2020-10-05T07:02:13.053598",
     "status": "completed"
    },
    "tags": []
   },
   "source": [
    "### Numerical value in the dataset"
   ]
  },
  {
   "cell_type": "code",
   "execution_count": 16,
   "metadata": {
    "execution": {
     "iopub.execute_input": "2020-10-05T07:02:13.249108Z",
     "iopub.status.busy": "2020-10-05T07:02:13.248285Z",
     "iopub.status.idle": "2020-10-05T07:02:13.253197Z",
     "shell.execute_reply": "2020-10-05T07:02:13.252177Z"
    },
    "papermill": {
     "duration": 0.072983,
     "end_time": "2020-10-05T07:02:13.253382",
     "exception": false,
     "start_time": "2020-10-05T07:02:13.180399",
     "status": "completed"
    },
    "tags": []
   },
   "outputs": [
    {
     "name": "stdout",
     "output_type": "stream",
     "text": [
      "Number of \"g-\" features are:  772\n",
      "Number of \"c-\" features are:  100\n"
     ]
    }
   ],
   "source": [
    "print('Number of \"g-\" features are: ', len([i for i in train_features.columns if i.startswith('g-')]))\n",
    "print('Number of \"c-\" features are: ', len([i for i in train_features.columns if i.startswith('c-')]))"
   ]
  },
  {
   "cell_type": "markdown",
   "metadata": {
    "papermill": {
     "duration": 0.062778,
     "end_time": "2020-10-05T07:02:13.383457",
     "exception": false,
     "start_time": "2020-10-05T07:02:13.320679",
     "status": "completed"
    },
    "tags": []
   },
   "source": [
    "* The g- signify gene feature. It's from  g-0 : g-771\n",
    "* The c- signify cell viability feature, It's from  c-0 : c-99"
   ]
  },
  {
   "cell_type": "markdown",
   "metadata": {
    "papermill": {
     "duration": 0.061388,
     "end_time": "2020-10-05T07:02:13.505524",
     "exception": false,
     "start_time": "2020-10-05T07:02:13.444136",
     "status": "completed"
    },
    "tags": []
   },
   "source": [
    "## Checking the Normal Distribution or Gaussian Distribution in the dataset."
   ]
  },
  {
   "cell_type": "markdown",
   "metadata": {
    "papermill": {
     "duration": 0.064376,
     "end_time": "2020-10-05T07:02:13.635210",
     "exception": false,
     "start_time": "2020-10-05T07:02:13.570834",
     "status": "completed"
    },
    "tags": []
   },
   "source": [
    "### Gene Feature"
   ]
  },
  {
   "cell_type": "code",
   "execution_count": 17,
   "metadata": {
    "execution": {
     "iopub.execute_input": "2020-10-05T07:02:13.803504Z",
     "iopub.status.busy": "2020-10-05T07:02:13.784907Z",
     "iopub.status.idle": "2020-10-05T07:02:15.345642Z",
     "shell.execute_reply": "2020-10-05T07:02:15.344714Z"
    },
    "papermill": {
     "duration": 1.639664,
     "end_time": "2020-10-05T07:02:15.345790",
     "exception": false,
     "start_time": "2020-10-05T07:02:13.706126",
     "status": "completed"
    },
    "tags": []
   },
   "outputs": [
    {
     "data": {
      "text/plain": [
       "<matplotlib.axes._subplots.AxesSubplot at 0x7f600c691b90>"
      ]
     },
     "execution_count": 17,
     "metadata": {},
     "output_type": "execute_result"
    },
    {
     "data": {
      "image/png": "[encoded data removed]",
      "text/plain": [
       "<Figure size 1440x360 with 9 Axes>"
      ]
     },
     "metadata": {
      "needs_background": "light"
     },
     "output_type": "display_data"
    }
   ],
   "source": [
    "fig, ax = plt.subplots(3, 3, figsize=(20, 5))\n",
    "\n",
    "sns.kdeplot(test_features['g-0'], shade = True, color = 'coral', ax=ax[0, 0])\n",
    "sns.kdeplot(test_features['g-20'], shade = True, color = 'coral', ax=ax[0, 1])\n",
    "sns.kdeplot(test_features['g-555'], shade = True, color = 'coral', ax=ax[0, 2])\n",
    "sns.kdeplot(test_features['g-105'], shade = True, color = 'coral', ax=ax[1, 0])\n",
    "sns.kdeplot(test_features['g-725'], shade = True, color = 'coral', ax=ax[1, 1])\n",
    "sns.kdeplot(test_features['g-598'], shade = True, color = 'coral', ax=ax[1, 2])\n",
    "sns.kdeplot(test_features['g-366'], shade = True, color = 'coral', ax=ax[2, 0])\n",
    "sns.kdeplot(test_features['g-450'], shade = True, color = 'coral', ax=ax[2, 1])\n",
    "sns.kdeplot(test_features['g-600'], shade = True, color = 'coral', ax=ax[2, 2])"
   ]
  },
  {
   "cell_type": "markdown",
   "metadata": {
    "papermill": {
     "duration": 0.06534,
     "end_time": "2020-10-05T07:02:15.479221",
     "exception": false,
     "start_time": "2020-10-05T07:02:15.413881",
     "status": "completed"
    },
    "tags": []
   },
   "source": [
    "### Cell viability features"
   ]
  },
  {
   "cell_type": "code",
   "execution_count": 18,
   "metadata": {
    "execution": {
     "iopub.execute_input": "2020-10-05T07:02:15.639404Z",
     "iopub.status.busy": "2020-10-05T07:02:15.617292Z",
     "iopub.status.idle": "2020-10-05T07:02:17.221362Z",
     "shell.execute_reply": "2020-10-05T07:02:17.220699Z"
    },
    "papermill": {
     "duration": 1.677717,
     "end_time": "2020-10-05T07:02:17.221492",
     "exception": false,
     "start_time": "2020-10-05T07:02:15.543775",
     "status": "completed"
    },
    "tags": []
   },
   "outputs": [
    {
     "data": {
      "text/plain": [
       "<matplotlib.axes._subplots.AxesSubplot at 0x7f600c076090>"
      ]
     },
     "execution_count": 18,
     "metadata": {},
     "output_type": "execute_result"
    },
    {
     "data": {
      "image/png": "[encoded data removed]",
      "text/plain": [
       "<Figure size 1440x360 with 9 Axes>"
      ]
     },
     "metadata": {
      "needs_background": "light"
     },
     "output_type": "display_data"
    }
   ],
   "source": [
    "fig, ax = plt.subplots(3, 3, figsize=(20, 5))\n",
    "\n",
    "sns.kdeplot(test_features['c-0'], shade = True, color = 'blue', ax=ax[0, 0])\n",
    "sns.kdeplot(test_features['c-20'], shade = True, color = 'blue', ax=ax[0, 1])\n",
    "sns.kdeplot(test_features['c-99'], shade = True, color = 'blue', ax=ax[0, 2])\n",
    "sns.kdeplot(test_features['g-66'], shade = True, color = 'blue', ax=ax[1, 0])\n",
    "sns.kdeplot(test_features['g-88'], shade = True, color = 'blue', ax=ax[1, 1])\n",
    "sns.kdeplot(test_features['g-73'], shade = True, color = 'blue', ax=ax[1, 2])\n",
    "sns.kdeplot(test_features['g-45'], shade = True, color = 'blue', ax=ax[2, 0])\n",
    "sns.kdeplot(test_features['g-59'], shade = True, color = 'blue', ax=ax[2, 1])\n",
    "sns.kdeplot(test_features['g-37'], shade = True, color = 'blue', ax=ax[2, 2])"
   ]
  },
  {
   "cell_type": "markdown",
   "metadata": {
    "papermill": {
     "duration": 0.064591,
     "end_time": "2020-10-05T07:02:17.353042",
     "exception": false,
     "start_time": "2020-10-05T07:02:17.288451",
     "status": "completed"
    },
    "tags": []
   },
   "source": [
    "* The most case the points are centred around 0 are close to normal distribution.\n",
    "* In some case we can find skeness in the data"
   ]
  },
  {
   "cell_type": "markdown",
   "metadata": {
    "papermill": {
     "duration": 0.064957,
     "end_time": "2020-10-05T07:02:17.484546",
     "exception": false,
     "start_time": "2020-10-05T07:02:17.419589",
     "status": "completed"
    },
    "tags": []
   },
   "source": [
    "### Mean and standard deviation for gene feature"
   ]
  },
  {
   "cell_type": "code",
   "execution_count": 19,
   "metadata": {
    "execution": {
     "iopub.execute_input": "2020-10-05T07:02:17.640430Z",
     "iopub.status.busy": "2020-10-05T07:02:17.625068Z",
     "iopub.status.idle": "2020-10-05T07:02:18.552178Z",
     "shell.execute_reply": "2020-10-05T07:02:18.550913Z"
    },
    "papermill": {
     "duration": 1.001671,
     "end_time": "2020-10-05T07:02:18.552336",
     "exception": false,
     "start_time": "2020-10-05T07:02:17.550665",
     "status": "completed"
    },
    "tags": []
   },
   "outputs": [
    {
     "data": {
      "text/plain": [
       "<matplotlib.axes._subplots.AxesSubplot at 0x7f600c43a550>"
      ]
     },
     "execution_count": 19,
     "metadata": {},
     "output_type": "execute_result"
    },
    {
     "data": {
      "image/png": "[encoded data removed]",
      "text/plain": [
       "<Figure size 1440x288 with 2 Axes>"
      ]
     },
     "metadata": {
      "needs_background": "light"
     },
     "output_type": "display_data"
    }
   ],
   "source": [
    "g_cols = [f'g-{i}' for i in range(772)]\n",
    "fig, ax = plt.subplots(1, 2, figsize=(20, 4))\n",
    "\n",
    "sns.distplot(train_features[g_cols].mean(), kde=False,color = 'green', bins = 75, ax = ax[0])\n",
    "sns.distplot(train_features[g_cols].std(), kde=False,color = 'green',  bins = 75, ax = ax[1])"
   ]
  },
  {
   "cell_type": "markdown",
   "metadata": {
    "papermill": {
     "duration": 0.070651,
     "end_time": "2020-10-05T07:02:18.690527",
     "exception": false,
     "start_time": "2020-10-05T07:02:18.619876",
     "status": "completed"
    },
    "tags": []
   },
   "source": [
    "### Mean and standard deviation for Cell viability feature"
   ]
  },
  {
   "cell_type": "code",
   "execution_count": 20,
   "metadata": {
    "execution": {
     "iopub.execute_input": "2020-10-05T07:02:18.838934Z",
     "iopub.status.busy": "2020-10-05T07:02:18.832798Z",
     "iopub.status.idle": "2020-10-05T07:02:19.279691Z",
     "shell.execute_reply": "2020-10-05T07:02:19.278897Z"
    },
    "papermill": {
     "duration": 0.523104,
     "end_time": "2020-10-05T07:02:19.279837",
     "exception": false,
     "start_time": "2020-10-05T07:02:18.756733",
     "status": "completed"
    },
    "tags": []
   },
   "outputs": [
    {
     "data": {
      "text/plain": [
       "<matplotlib.axes._subplots.AxesSubplot at 0x7f5fec8ce510>"
      ]
     },
     "execution_count": 20,
     "metadata": {},
     "output_type": "execute_result"
    },
    {
     "data": {
      "image/png": "[encoded data removed]",
      "text/plain": [
       "<Figure size 1440x288 with 2 Axes>"
      ]
     },
     "metadata": {
      "needs_background": "light"
     },
     "output_type": "display_data"
    }
   ],
   "source": [
    "c_cols = [f'c-{i}' for i in range(100)]\n",
    "fig, ax = plt.subplots(1, 2, figsize=(20, 4))\n",
    "\n",
    "sns.distplot(train_features[c_cols].mean(), kde=False,color = 'purple', bins = 15, ax = ax[0])\n",
    "sns.distplot(train_features[c_cols].std(), kde=False,color = 'purple',  bins = 15, ax = ax[1])"
   ]
  },
  {
   "cell_type": "markdown",
   "metadata": {
    "papermill": {
     "duration": 0.069873,
     "end_time": "2020-10-05T07:02:19.420481",
     "exception": false,
     "start_time": "2020-10-05T07:02:19.350608",
     "status": "completed"
    },
    "tags": []
   },
   "source": [
    "### correlation matrix for gene feature "
   ]
  },
  {
   "cell_type": "code",
   "execution_count": 21,
   "metadata": {
    "execution": {
     "iopub.execute_input": "2020-10-05T07:02:19.572535Z",
     "iopub.status.busy": "2020-10-05T07:02:19.571328Z",
     "iopub.status.idle": "2020-10-05T07:02:20.647409Z",
     "shell.execute_reply": "2020-10-05T07:02:20.646767Z"
    },
    "papermill": {
     "duration": 1.158186,
     "end_time": "2020-10-05T07:02:20.647547",
     "exception": false,
     "start_time": "2020-10-05T07:02:19.489361",
     "status": "completed"
    },
    "tags": []
   },
   "outputs": [
    {
     "data": {
      "image/png": "[encoded data removed]",
      "text/plain": [
       "<Figure size 720x720 with 2 Axes>"
      ]
     },
     "metadata": {
      "needs_background": "light"
     },
     "output_type": "display_data"
    }
   ],
   "source": [
    "# Compute the correlation matrix\n",
    "corr = train_features[g_cols[:40]].corr()\n",
    "\n",
    "# Generate a mask for the upper triangle\n",
    "mask = np.triu(np.ones_like(corr, dtype=bool))\n",
    "\n",
    "# Set up the matplotlib figure\n",
    "f, ax = plt.subplots(figsize=(10, 10))\n",
    "\n",
    "# Generate a custom diverging colormap\n",
    "cmap = sns.diverging_palette(230, 20, as_cmap=True)\n",
    "\n",
    "# Draw the heatmap with the mask and correct aspect ratio\n",
    "sns.heatmap(corr, mask=mask, cmap=cmap, vmax=.3, center=0,\n",
    "            square=True, linewidths=.5, cbar_kws={\"shrink\": .5})\n",
    "plt.title('Pairwise correlations of gene features for first 40')\n",
    "plt.show()"
   ]
  },
  {
   "cell_type": "markdown",
   "metadata": {
    "papermill": {
     "duration": 0.070095,
     "end_time": "2020-10-05T07:02:20.787488",
     "exception": false,
     "start_time": "2020-10-05T07:02:20.717393",
     "status": "completed"
    },
    "tags": []
   },
   "source": [
    "In this we can see that some of the feature are strongly correlate with each other."
   ]
  },
  {
   "cell_type": "code",
   "execution_count": 22,
   "metadata": {
    "execution": {
     "iopub.execute_input": "2020-10-05T07:02:20.940650Z",
     "iopub.status.busy": "2020-10-05T07:02:20.938655Z",
     "iopub.status.idle": "2020-10-05T07:02:50.779496Z",
     "shell.execute_reply": "2020-10-05T07:02:50.780265Z"
    },
    "papermill": {
     "duration": 29.924322,
     "end_time": "2020-10-05T07:02:50.780471",
     "exception": false,
     "start_time": "2020-10-05T07:02:20.856149",
     "status": "completed"
    },
    "tags": []
   },
   "outputs": [
    {
     "data": {
      "image/png": "[encoded data removed]",
      "text/plain": [
       "<Figure size 1080x288 with 1 Axes>"
      ]
     },
     "metadata": {
      "needs_background": "light"
     },
     "output_type": "display_data"
    }
   ],
   "source": [
    "f, ax = plt.subplots(figsize=(15, 4))\n",
    "sns.distplot(train_features[g_cols].corr(),color='r')\n",
    "plt.title(\"Distribution for gene feature\")\n",
    "plt.show()"
   ]
  },
  {
   "cell_type": "markdown",
   "metadata": {
    "papermill": {
     "duration": 0.070919,
     "end_time": "2020-10-05T07:02:50.924876",
     "exception": false,
     "start_time": "2020-10-05T07:02:50.853957",
     "status": "completed"
    },
    "tags": []
   },
   "source": [
    "The correlation of the gene is Normal Distributed or Gaussian Distribution and also we do have some outlayers."
   ]
  },
  {
   "cell_type": "markdown",
   "metadata": {
    "papermill": {
     "duration": 0.070873,
     "end_time": "2020-10-05T07:02:51.068294",
     "exception": false,
     "start_time": "2020-10-05T07:02:50.997421",
     "status": "completed"
    },
    "tags": []
   },
   "source": [
    "### correlation matrix for cell viability feature"
   ]
  },
  {
   "cell_type": "code",
   "execution_count": 23,
   "metadata": {
    "execution": {
     "iopub.execute_input": "2020-10-05T07:02:51.222685Z",
     "iopub.status.busy": "2020-10-05T07:02:51.221867Z",
     "iopub.status.idle": "2020-10-05T07:02:52.393402Z",
     "shell.execute_reply": "2020-10-05T07:02:52.392786Z"
    },
    "papermill": {
     "duration": 1.255167,
     "end_time": "2020-10-05T07:02:52.393534",
     "exception": false,
     "start_time": "2020-10-05T07:02:51.138367",
     "status": "completed"
    },
    "tags": []
   },
   "outputs": [
    {
     "data": {
      "image/png": "[encoded data removed]",
      "text/plain": [
       "<Figure size 720x504 with 2 Axes>"
      ]
     },
     "metadata": {
      "needs_background": "light"
     },
     "output_type": "display_data"
    }
   ],
   "source": [
    "plt.figure(figsize=(10,7))\n",
    "sns.heatmap(train_features[c_cols].corr(), cmap='coolwarm');"
   ]
  },
  {
   "cell_type": "markdown",
   "metadata": {
    "papermill": {
     "duration": 0.071596,
     "end_time": "2020-10-05T07:02:52.538091",
     "exception": false,
     "start_time": "2020-10-05T07:02:52.466495",
     "status": "completed"
    },
    "tags": []
   },
   "source": [
    "The lowest value is around 0.6, therefore the value are highly correlated"
   ]
  },
  {
   "cell_type": "code",
   "execution_count": 24,
   "metadata": {
    "execution": {
     "iopub.execute_input": "2020-10-05T07:02:52.747845Z",
     "iopub.status.busy": "2020-10-05T07:02:52.742140Z",
     "iopub.status.idle": "2020-10-05T07:02:53.535386Z",
     "shell.execute_reply": "2020-10-05T07:02:53.534706Z"
    },
    "papermill": {
     "duration": 0.92509,
     "end_time": "2020-10-05T07:02:53.535512",
     "exception": false,
     "start_time": "2020-10-05T07:02:52.610422",
     "status": "completed"
    },
    "tags": []
   },
   "outputs": [
    {
     "data": {
      "image/png": "[encoded data removed]",
      "text/plain": [
       "<Figure size 1080x288 with 1 Axes>"
      ]
     },
     "metadata": {
      "needs_background": "light"
     },
     "output_type": "display_data"
    }
   ],
   "source": [
    "f, ax = plt.subplots(figsize=(15, 4))\n",
    "sns.distplot(train_features[c_cols].corr(),color='lightsalmon')\n",
    "plt.title(\"Distribution for Gene Feature\")\n",
    "plt.show()"
   ]
  },
  {
   "cell_type": "code",
   "execution_count": 25,
   "metadata": {
    "execution": {
     "iopub.execute_input": "2020-10-05T07:02:53.693796Z",
     "iopub.status.busy": "2020-10-05T07:02:53.692226Z",
     "iopub.status.idle": "2020-10-05T07:03:31.544166Z",
     "shell.execute_reply": "2020-10-05T07:03:31.543504Z"
    },
    "papermill": {
     "duration": 37.933821,
     "end_time": "2020-10-05T07:03:31.544311",
     "exception": false,
     "start_time": "2020-10-05T07:02:53.610490",
     "status": "completed"
    },
    "tags": []
   },
   "outputs": [],
   "source": [
    "train_features_cor = train_features.corr()"
   ]
  },
  {
   "cell_type": "code",
   "execution_count": 26,
   "metadata": {
    "execution": {
     "iopub.execute_input": "2020-10-05T07:03:31.725938Z",
     "iopub.status.busy": "2020-10-05T07:03:31.725135Z",
     "iopub.status.idle": "2020-10-05T07:03:31.730352Z",
     "shell.execute_reply": "2020-10-05T07:03:31.729638Z"
    },
    "papermill": {
     "duration": 0.106812,
     "end_time": "2020-10-05T07:03:31.730472",
     "exception": false,
     "start_time": "2020-10-05T07:03:31.623660",
     "status": "completed"
    },
    "tags": []
   },
   "outputs": [
    {
     "data": {
      "text/html": [
       "<div>\n",
       "<style scoped>\n",
       "    .dataframe tbody tr th:only-of-type {\n",
       "        vertical-align: middle;\n",
       "    }\n",
       "\n",
       "    .dataframe tbody tr th {\n",
       "        vertical-align: top;\n",
       "    }\n",
       "\n",
       "    .dataframe thead th {\n",
       "        text-align: right;\n",
       "    }\n",
       "</style>\n",
       "<table border=\"1\" class=\"dataframe\">\n",
       "  <thead>\n",
       "    <tr style=\"text-align: right;\">\n",
       "      <th></th>\n",
       "      <th>cp_type</th>\n",
       "      <th>cp_time</th>\n",
       "      <th>cp_dose</th>\n",
       "      <th>g-0</th>\n",
       "      <th>g-1</th>\n",
       "      <th>g-2</th>\n",
       "      <th>g-3</th>\n",
       "      <th>g-4</th>\n",
       "      <th>g-5</th>\n",
       "      <th>g-6</th>\n",
       "      <th>...</th>\n",
       "      <th>c-90</th>\n",
       "      <th>c-91</th>\n",
       "      <th>c-92</th>\n",
       "      <th>c-93</th>\n",
       "      <th>c-94</th>\n",
       "      <th>c-95</th>\n",
       "      <th>c-96</th>\n",
       "      <th>c-97</th>\n",
       "      <th>c-98</th>\n",
       "      <th>c-99</th>\n",
       "    </tr>\n",
       "  </thead>\n",
       "  <tbody>\n",
       "    <tr>\n",
       "      <th>cp_type</th>\n",
       "      <td>1.000000</td>\n",
       "      <td>-0.000857</td>\n",
       "      <td>-0.000252</td>\n",
       "      <td>0.072139</td>\n",
       "      <td>0.066868</td>\n",
       "      <td>0.053437</td>\n",
       "      <td>-0.002551</td>\n",
       "      <td>0.091805</td>\n",
       "      <td>-0.013221</td>\n",
       "      <td>-0.092641</td>\n",
       "      <td>...</td>\n",
       "      <td>-0.092025</td>\n",
       "      <td>-0.084773</td>\n",
       "      <td>-0.076649</td>\n",
       "      <td>-0.107095</td>\n",
       "      <td>-0.104947</td>\n",
       "      <td>-0.098305</td>\n",
       "      <td>-0.087668</td>\n",
       "      <td>-0.092418</td>\n",
       "      <td>-0.120323</td>\n",
       "      <td>-0.117060</td>\n",
       "    </tr>\n",
       "    <tr>\n",
       "      <th>cp_time</th>\n",
       "      <td>-0.000857</td>\n",
       "      <td>1.000000</td>\n",
       "      <td>-0.001122</td>\n",
       "      <td>0.007610</td>\n",
       "      <td>0.043335</td>\n",
       "      <td>-0.162238</td>\n",
       "      <td>-0.031226</td>\n",
       "      <td>0.027241</td>\n",
       "      <td>-0.081324</td>\n",
       "      <td>-0.030058</td>\n",
       "      <td>...</td>\n",
       "      <td>-0.056778</td>\n",
       "      <td>-0.053159</td>\n",
       "      <td>-0.079995</td>\n",
       "      <td>-0.032101</td>\n",
       "      <td>-0.064898</td>\n",
       "      <td>-0.112583</td>\n",
       "      <td>-0.067116</td>\n",
       "      <td>-0.067969</td>\n",
       "      <td>-0.088916</td>\n",
       "      <td>-0.075736</td>\n",
       "    </tr>\n",
       "    <tr>\n",
       "      <th>cp_dose</th>\n",
       "      <td>-0.000252</td>\n",
       "      <td>-0.001122</td>\n",
       "      <td>1.000000</td>\n",
       "      <td>-0.046947</td>\n",
       "      <td>0.101326</td>\n",
       "      <td>-0.097255</td>\n",
       "      <td>0.020745</td>\n",
       "      <td>-0.050323</td>\n",
       "      <td>-0.141974</td>\n",
       "      <td>-0.046977</td>\n",
       "      <td>...</td>\n",
       "      <td>0.021635</td>\n",
       "      <td>0.025650</td>\n",
       "      <td>0.041799</td>\n",
       "      <td>0.029549</td>\n",
       "      <td>0.028690</td>\n",
       "      <td>0.025122</td>\n",
       "      <td>0.026105</td>\n",
       "      <td>0.024246</td>\n",
       "      <td>0.031905</td>\n",
       "      <td>0.026250</td>\n",
       "    </tr>\n",
       "    <tr>\n",
       "      <th>g-0</th>\n",
       "      <td>0.072139</td>\n",
       "      <td>0.007610</td>\n",
       "      <td>-0.046947</td>\n",
       "      <td>1.000000</td>\n",
       "      <td>0.086032</td>\n",
       "      <td>0.176188</td>\n",
       "      <td>0.011266</td>\n",
       "      <td>0.403153</td>\n",
       "      <td>-0.165478</td>\n",
       "      <td>0.238348</td>\n",
       "      <td>...</td>\n",
       "      <td>-0.648726</td>\n",
       "      <td>-0.629025</td>\n",
       "      <td>-0.633479</td>\n",
       "      <td>-0.668520</td>\n",
       "      <td>-0.656116</td>\n",
       "      <td>-0.600758</td>\n",
       "      <td>-0.646784</td>\n",
       "      <td>-0.622840</td>\n",
       "      <td>-0.640484</td>\n",
       "      <td>-0.609238</td>\n",
       "    </tr>\n",
       "    <tr>\n",
       "      <th>g-1</th>\n",
       "      <td>0.066868</td>\n",
       "      <td>0.043335</td>\n",
       "      <td>0.101326</td>\n",
       "      <td>0.086032</td>\n",
       "      <td>1.000000</td>\n",
       "      <td>-0.054518</td>\n",
       "      <td>-0.027855</td>\n",
       "      <td>0.193647</td>\n",
       "      <td>-0.151590</td>\n",
       "      <td>-0.122541</td>\n",
       "      <td>...</td>\n",
       "      <td>-0.034557</td>\n",
       "      <td>-0.000934</td>\n",
       "      <td>-0.022478</td>\n",
       "      <td>-0.034891</td>\n",
       "      <td>-0.042638</td>\n",
       "      <td>-0.011237</td>\n",
       "      <td>-0.022127</td>\n",
       "      <td>-0.008487</td>\n",
       "      <td>-0.002824</td>\n",
       "      <td>-0.002308</td>\n",
       "    </tr>\n",
       "  </tbody>\n",
       "</table>\n",
       "<p>5 rows × 875 columns</p>\n",
       "</div>"
      ],
      "text/plain": [
       "          cp_type   cp_time   cp_dose       g-0       g-1       g-2       g-3  \\\n",
       "cp_type  1.000000 -0.000857 -0.000252  0.072139  0.066868  0.053437 -0.002551   \n",
       "cp_time -0.000857  1.000000 -0.001122  0.007610  0.043335 -0.162238 -0.031226   \n",
       "cp_dose -0.000252 -0.001122  1.000000 -0.046947  0.101326 -0.097255  0.020745   \n",
       "g-0      0.072139  0.007610 -0.046947  1.000000  0.086032  0.176188  0.011266   \n",
       "g-1      0.066868  0.043335  0.101326  0.086032  1.000000 -0.054518 -0.027855   \n",
       "\n",
       "              g-4       g-5       g-6  ...      c-90      c-91      c-92  \\\n",
       "cp_type  0.091805 -0.013221 -0.092641  ... -0.092025 -0.084773 -0.076649   \n",
       "cp_time  0.027241 -0.081324 -0.030058  ... -0.056778 -0.053159 -0.079995   \n",
       "cp_dose -0.050323 -0.141974 -0.046977  ...  0.021635  0.025650  0.041799   \n",
       "g-0      0.403153 -0.165478  0.238348  ... -0.648726 -0.629025 -0.633479   \n",
       "g-1      0.193647 -0.151590 -0.122541  ... -0.034557 -0.000934 -0.022478   \n",
       "\n",
       "             c-93      c-94      c-95      c-96      c-97      c-98      c-99  \n",
       "cp_type -0.107095 -0.104947 -0.098305 -0.087668 -0.092418 -0.120323 -0.117060  \n",
       "cp_time -0.032101 -0.064898 -0.112583 -0.067116 -0.067969 -0.088916 -0.075736  \n",
       "cp_dose  0.029549  0.028690  0.025122  0.026105  0.024246  0.031905  0.026250  \n",
       "g-0     -0.668520 -0.656116 -0.600758 -0.646784 -0.622840 -0.640484 -0.609238  \n",
       "g-1     -0.034891 -0.042638 -0.011237 -0.022127 -0.008487 -0.002824 -0.002308  \n",
       "\n",
       "[5 rows x 875 columns]"
      ]
     },
     "execution_count": 26,
     "metadata": {},
     "output_type": "execute_result"
    }
   ],
   "source": [
    "train_features_cor.head()"
   ]
  },
  {
   "cell_type": "markdown",
   "metadata": {
    "papermill": {
     "duration": 0.07508,
     "end_time": "2020-10-05T07:03:31.880354",
     "exception": false,
     "start_time": "2020-10-05T07:03:31.805274",
     "status": "completed"
    },
    "tags": []
   },
   "source": [
    "Some feature are most correlated with other feature. To see the multicolinearity of all feature, we are using **Variance Inflation Factor(VIF)**."
   ]
  },
  {
   "cell_type": "code",
   "execution_count": 27,
   "metadata": {
    "execution": {
     "iopub.execute_input": "2020-10-05T07:03:32.039844Z",
     "iopub.status.busy": "2020-10-05T07:03:32.039041Z",
     "iopub.status.idle": "2020-10-05T07:03:32.111784Z",
     "shell.execute_reply": "2020-10-05T07:03:32.111073Z"
    },
    "papermill": {
     "duration": 0.155111,
     "end_time": "2020-10-05T07:03:32.111914",
     "exception": false,
     "start_time": "2020-10-05T07:03:31.956803",
     "status": "completed"
    },
    "tags": []
   },
   "outputs": [],
   "source": [
    "vifs = pd.DataFrame(np.linalg.inv(train_features_cor.values).diagonal(), index = train_features_cor.index, columns=['VIF'])"
   ]
  },
  {
   "cell_type": "code",
   "execution_count": 28,
   "metadata": {
    "execution": {
     "iopub.execute_input": "2020-10-05T07:03:32.274994Z",
     "iopub.status.busy": "2020-10-05T07:03:32.273863Z",
     "iopub.status.idle": "2020-10-05T07:03:32.278995Z",
     "shell.execute_reply": "2020-10-05T07:03:32.278317Z"
    },
    "papermill": {
     "duration": 0.091424,
     "end_time": "2020-10-05T07:03:32.279124",
     "exception": false,
     "start_time": "2020-10-05T07:03:32.187700",
     "status": "completed"
    },
    "tags": []
   },
   "outputs": [
    {
     "data": {
      "text/html": [
       "<div>\n",
       "<style scoped>\n",
       "    .dataframe tbody tr th:only-of-type {\n",
       "        vertical-align: middle;\n",
       "    }\n",
       "\n",
       "    .dataframe tbody tr th {\n",
       "        vertical-align: top;\n",
       "    }\n",
       "\n",
       "    .dataframe thead th {\n",
       "        text-align: right;\n",
       "    }\n",
       "</style>\n",
       "<table border=\"1\" class=\"dataframe\">\n",
       "  <thead>\n",
       "    <tr style=\"text-align: right;\">\n",
       "      <th></th>\n",
       "      <th>VIF</th>\n",
       "    </tr>\n",
       "  </thead>\n",
       "  <tbody>\n",
       "    <tr>\n",
       "      <th>c-94</th>\n",
       "      <td>18.225155</td>\n",
       "    </tr>\n",
       "    <tr>\n",
       "      <th>c-95</th>\n",
       "      <td>7.952225</td>\n",
       "    </tr>\n",
       "    <tr>\n",
       "      <th>c-96</th>\n",
       "      <td>13.317588</td>\n",
       "    </tr>\n",
       "    <tr>\n",
       "      <th>c-97</th>\n",
       "      <td>11.335786</td>\n",
       "    </tr>\n",
       "    <tr>\n",
       "      <th>c-98</th>\n",
       "      <td>9.491259</td>\n",
       "    </tr>\n",
       "    <tr>\n",
       "      <th>c-99</th>\n",
       "      <td>6.920970</td>\n",
       "    </tr>\n",
       "  </tbody>\n",
       "</table>\n",
       "</div>"
      ],
      "text/plain": [
       "            VIF\n",
       "c-94  18.225155\n",
       "c-95   7.952225\n",
       "c-96  13.317588\n",
       "c-97  11.335786\n",
       "c-98   9.491259\n",
       "c-99   6.920970"
      ]
     },
     "execution_count": 28,
     "metadata": {},
     "output_type": "execute_result"
    }
   ],
   "source": [
    "vifs.tail(6)"
   ]
  },
  {
   "cell_type": "code",
   "execution_count": 29,
   "metadata": {
    "execution": {
     "iopub.execute_input": "2020-10-05T07:03:32.440386Z",
     "iopub.status.busy": "2020-10-05T07:03:32.439288Z",
     "iopub.status.idle": "2020-10-05T07:03:32.443010Z",
     "shell.execute_reply": "2020-10-05T07:03:32.442250Z"
    },
    "papermill": {
     "duration": 0.088363,
     "end_time": "2020-10-05T07:03:32.443144",
     "exception": false,
     "start_time": "2020-10-05T07:03:32.354781",
     "status": "completed"
    },
    "tags": []
   },
   "outputs": [],
   "source": [
    "# we take a value where vif is greater than 15.\n",
    "\n",
    "greater_vifs = vifs.where(vifs>15)\n",
    "greater_vifs = greater_vifs.dropna()"
   ]
  },
  {
   "cell_type": "code",
   "execution_count": 30,
   "metadata": {
    "execution": {
     "iopub.execute_input": "2020-10-05T07:03:32.601306Z",
     "iopub.status.busy": "2020-10-05T07:03:32.600448Z",
     "iopub.status.idle": "2020-10-05T07:03:32.603654Z",
     "shell.execute_reply": "2020-10-05T07:03:32.602889Z"
    },
    "papermill": {
     "duration": 0.08391,
     "end_time": "2020-10-05T07:03:32.603787",
     "exception": false,
     "start_time": "2020-10-05T07:03:32.519877",
     "status": "completed"
    },
    "tags": []
   },
   "outputs": [],
   "source": [
    "cols_remove = greater_vifs.index"
   ]
  },
  {
   "cell_type": "code",
   "execution_count": 31,
   "metadata": {
    "execution": {
     "iopub.execute_input": "2020-10-05T07:03:32.762464Z",
     "iopub.status.busy": "2020-10-05T07:03:32.761341Z",
     "iopub.status.idle": "2020-10-05T07:03:32.765850Z",
     "shell.execute_reply": "2020-10-05T07:03:32.765120Z"
    },
    "papermill": {
     "duration": 0.086102,
     "end_time": "2020-10-05T07:03:32.765976",
     "exception": false,
     "start_time": "2020-10-05T07:03:32.679874",
     "status": "completed"
    },
    "tags": []
   },
   "outputs": [
    {
     "data": {
      "text/plain": [
       "Index(['g-37', 'g-50', 'g-75', 'g-744', 'c-2', 'c-4', 'c-6', 'c-10', 'c-13',\n",
       "       'c-17', 'c-18', 'c-26', 'c-31', 'c-33', 'c-38', 'c-42', 'c-51', 'c-52',\n",
       "       'c-55', 'c-60', 'c-62', 'c-63', 'c-66', 'c-70', 'c-73', 'c-81', 'c-82',\n",
       "       'c-83', 'c-90', 'c-94'],\n",
       "      dtype='object')"
      ]
     },
     "execution_count": 31,
     "metadata": {},
     "output_type": "execute_result"
    }
   ],
   "source": [
    "cols_remove \n",
    "# This is a feature that have highly correlated with any number of the other variables."
   ]
  },
  {
   "cell_type": "code",
   "execution_count": 32,
   "metadata": {
    "execution": {
     "iopub.execute_input": "2020-10-05T07:03:32.979735Z",
     "iopub.status.busy": "2020-10-05T07:03:32.925883Z",
     "iopub.status.idle": "2020-10-05T07:03:32.983566Z",
     "shell.execute_reply": "2020-10-05T07:03:32.982729Z"
    },
    "papermill": {
     "duration": 0.140502,
     "end_time": "2020-10-05T07:03:32.983722",
     "exception": false,
     "start_time": "2020-10-05T07:03:32.843220",
     "status": "completed"
    },
    "tags": []
   },
   "outputs": [],
   "source": [
    "new_train_features_data = train_features.drop(columns=cols_remove) # we drop these columns highly correlated"
   ]
  },
  {
   "cell_type": "code",
   "execution_count": 33,
   "metadata": {
    "execution": {
     "iopub.execute_input": "2020-10-05T07:03:33.171434Z",
     "iopub.status.busy": "2020-10-05T07:03:33.155475Z",
     "iopub.status.idle": "2020-10-05T07:03:33.177061Z",
     "shell.execute_reply": "2020-10-05T07:03:33.176431Z"
    },
    "papermill": {
     "duration": 0.114262,
     "end_time": "2020-10-05T07:03:33.177195",
     "exception": false,
     "start_time": "2020-10-05T07:03:33.062933",
     "status": "completed"
    },
    "tags": []
   },
   "outputs": [
    {
     "data": {
      "text/html": [
       "<div>\n",
       "<style scoped>\n",
       "    .dataframe tbody tr th:only-of-type {\n",
       "        vertical-align: middle;\n",
       "    }\n",
       "\n",
       "    .dataframe tbody tr th {\n",
       "        vertical-align: top;\n",
       "    }\n",
       "\n",
       "    .dataframe thead th {\n",
       "        text-align: right;\n",
       "    }\n",
       "</style>\n",
       "<table border=\"1\" class=\"dataframe\">\n",
       "  <thead>\n",
       "    <tr style=\"text-align: right;\">\n",
       "      <th></th>\n",
       "      <th>sig_id</th>\n",
       "      <th>cp_type</th>\n",
       "      <th>cp_time</th>\n",
       "      <th>cp_dose</th>\n",
       "      <th>g-0</th>\n",
       "      <th>g-1</th>\n",
       "      <th>g-2</th>\n",
       "      <th>g-3</th>\n",
       "      <th>g-4</th>\n",
       "      <th>g-5</th>\n",
       "      <th>...</th>\n",
       "      <th>c-88</th>\n",
       "      <th>c-89</th>\n",
       "      <th>c-91</th>\n",
       "      <th>c-92</th>\n",
       "      <th>c-93</th>\n",
       "      <th>c-95</th>\n",
       "      <th>c-96</th>\n",
       "      <th>c-97</th>\n",
       "      <th>c-98</th>\n",
       "      <th>c-99</th>\n",
       "    </tr>\n",
       "  </thead>\n",
       "  <tbody>\n",
       "    <tr>\n",
       "      <th>0</th>\n",
       "      <td>id_000644bb2</td>\n",
       "      <td>1</td>\n",
       "      <td>0</td>\n",
       "      <td>0</td>\n",
       "      <td>1.0620</td>\n",
       "      <td>0.5577</td>\n",
       "      <td>-0.2479</td>\n",
       "      <td>-0.6208</td>\n",
       "      <td>-0.1944</td>\n",
       "      <td>-1.0120</td>\n",
       "      <td>...</td>\n",
       "      <td>-1.0120</td>\n",
       "      <td>0.6685</td>\n",
       "      <td>0.2584</td>\n",
       "      <td>0.8076</td>\n",
       "      <td>0.5523</td>\n",
       "      <td>0.6584</td>\n",
       "      <td>-0.3981</td>\n",
       "      <td>0.2139</td>\n",
       "      <td>0.3801</td>\n",
       "      <td>0.4176</td>\n",
       "    </tr>\n",
       "    <tr>\n",
       "      <th>1</th>\n",
       "      <td>id_000779bfc</td>\n",
       "      <td>1</td>\n",
       "      <td>2</td>\n",
       "      <td>0</td>\n",
       "      <td>0.0743</td>\n",
       "      <td>0.4087</td>\n",
       "      <td>0.2991</td>\n",
       "      <td>0.0604</td>\n",
       "      <td>1.0190</td>\n",
       "      <td>0.5207</td>\n",
       "      <td>...</td>\n",
       "      <td>-0.4236</td>\n",
       "      <td>0.3192</td>\n",
       "      <td>0.7543</td>\n",
       "      <td>0.4708</td>\n",
       "      <td>0.0230</td>\n",
       "      <td>0.4899</td>\n",
       "      <td>0.1522</td>\n",
       "      <td>0.1241</td>\n",
       "      <td>0.6077</td>\n",
       "      <td>0.7371</td>\n",
       "    </tr>\n",
       "    <tr>\n",
       "      <th>2</th>\n",
       "      <td>id_000a6266a</td>\n",
       "      <td>1</td>\n",
       "      <td>1</td>\n",
       "      <td>0</td>\n",
       "      <td>0.6280</td>\n",
       "      <td>0.5817</td>\n",
       "      <td>1.5540</td>\n",
       "      <td>-0.0764</td>\n",
       "      <td>-0.0323</td>\n",
       "      <td>1.2390</td>\n",
       "      <td>...</td>\n",
       "      <td>0.3019</td>\n",
       "      <td>-0.0873</td>\n",
       "      <td>-0.6297</td>\n",
       "      <td>0.6103</td>\n",
       "      <td>0.0223</td>\n",
       "      <td>-0.3174</td>\n",
       "      <td>-0.6417</td>\n",
       "      <td>-0.2187</td>\n",
       "      <td>-1.4080</td>\n",
       "      <td>0.6931</td>\n",
       "    </tr>\n",
       "    <tr>\n",
       "      <th>3</th>\n",
       "      <td>id_0015fd391</td>\n",
       "      <td>1</td>\n",
       "      <td>1</td>\n",
       "      <td>0</td>\n",
       "      <td>-0.5138</td>\n",
       "      <td>-0.2491</td>\n",
       "      <td>-0.2656</td>\n",
       "      <td>0.5288</td>\n",
       "      <td>4.0620</td>\n",
       "      <td>-0.8095</td>\n",
       "      <td>...</td>\n",
       "      <td>-1.5550</td>\n",
       "      <td>0.2431</td>\n",
       "      <td>-0.6441</td>\n",
       "      <td>-5.6300</td>\n",
       "      <td>-1.3780</td>\n",
       "      <td>-1.2880</td>\n",
       "      <td>-1.6210</td>\n",
       "      <td>-0.8784</td>\n",
       "      <td>-0.3876</td>\n",
       "      <td>-0.8154</td>\n",
       "    </tr>\n",
       "    <tr>\n",
       "      <th>4</th>\n",
       "      <td>id_001626bd3</td>\n",
       "      <td>1</td>\n",
       "      <td>2</td>\n",
       "      <td>1</td>\n",
       "      <td>-0.3254</td>\n",
       "      <td>-0.4009</td>\n",
       "      <td>0.9700</td>\n",
       "      <td>0.6919</td>\n",
       "      <td>1.4180</td>\n",
       "      <td>-0.8244</td>\n",
       "      <td>...</td>\n",
       "      <td>0.6054</td>\n",
       "      <td>-0.1824</td>\n",
       "      <td>0.0048</td>\n",
       "      <td>0.6670</td>\n",
       "      <td>1.0690</td>\n",
       "      <td>-0.3031</td>\n",
       "      <td>0.1094</td>\n",
       "      <td>0.2885</td>\n",
       "      <td>-0.3786</td>\n",
       "      <td>0.7125</td>\n",
       "    </tr>\n",
       "  </tbody>\n",
       "</table>\n",
       "<p>5 rows × 846 columns</p>\n",
       "</div>"
      ],
      "text/plain": [
       "         sig_id  cp_type  cp_time  cp_dose     g-0     g-1     g-2     g-3  \\\n",
       "0  id_000644bb2        1        0        0  1.0620  0.5577 -0.2479 -0.6208   \n",
       "1  id_000779bfc        1        2        0  0.0743  0.4087  0.2991  0.0604   \n",
       "2  id_000a6266a        1        1        0  0.6280  0.5817  1.5540 -0.0764   \n",
       "3  id_0015fd391        1        1        0 -0.5138 -0.2491 -0.2656  0.5288   \n",
       "4  id_001626bd3        1        2        1 -0.3254 -0.4009  0.9700  0.6919   \n",
       "\n",
       "      g-4     g-5  ...    c-88    c-89    c-91    c-92    c-93    c-95  \\\n",
       "0 -0.1944 -1.0120  ... -1.0120  0.6685  0.2584  0.8076  0.5523  0.6584   \n",
       "1  1.0190  0.5207  ... -0.4236  0.3192  0.7543  0.4708  0.0230  0.4899   \n",
       "2 -0.0323  1.2390  ...  0.3019 -0.0873 -0.6297  0.6103  0.0223 -0.3174   \n",
       "3  4.0620 -0.8095  ... -1.5550  0.2431 -0.6441 -5.6300 -1.3780 -1.2880   \n",
       "4  1.4180 -0.8244  ...  0.6054 -0.1824  0.0048  0.6670  1.0690 -0.3031   \n",
       "\n",
       "     c-96    c-97    c-98    c-99  \n",
       "0 -0.3981  0.2139  0.3801  0.4176  \n",
       "1  0.1522  0.1241  0.6077  0.7371  \n",
       "2 -0.6417 -0.2187 -1.4080  0.6931  \n",
       "3 -1.6210 -0.8784 -0.3876 -0.8154  \n",
       "4  0.1094  0.2885 -0.3786  0.7125  \n",
       "\n",
       "[5 rows x 846 columns]"
      ]
     },
     "execution_count": 33,
     "metadata": {},
     "output_type": "execute_result"
    }
   ],
   "source": [
    "new_train_features_data.head()"
   ]
  },
  {
   "cell_type": "markdown",
   "metadata": {
    "papermill": {
     "duration": 0.077638,
     "end_time": "2020-10-05T07:03:33.333572",
     "exception": false,
     "start_time": "2020-10-05T07:03:33.255934",
     "status": "completed"
    },
    "tags": []
   },
   "source": [
    "### Test Features"
   ]
  },
  {
   "cell_type": "code",
   "execution_count": 34,
   "metadata": {
    "execution": {
     "iopub.execute_input": "2020-10-05T07:03:33.500393Z",
     "iopub.status.busy": "2020-10-05T07:03:33.499379Z",
     "iopub.status.idle": "2020-10-05T07:03:33.502503Z",
     "shell.execute_reply": "2020-10-05T07:03:33.501907Z"
    },
    "papermill": {
     "duration": 0.090921,
     "end_time": "2020-10-05T07:03:33.502659",
     "exception": false,
     "start_time": "2020-10-05T07:03:33.411738",
     "status": "completed"
    },
    "tags": []
   },
   "outputs": [],
   "source": [
    "test_features['cp_type'] = test_features['cp_type'].astype('category')\n",
    "test_features['cp_type'].cat.categories = [0, 1]\n",
    "test_features['cp_type'] = test_features['cp_type'].astype(\"int\")"
   ]
  },
  {
   "cell_type": "code",
   "execution_count": 35,
   "metadata": {
    "execution": {
     "iopub.execute_input": "2020-10-05T07:03:33.699583Z",
     "iopub.status.busy": "2020-10-05T07:03:33.696408Z",
     "iopub.status.idle": "2020-10-05T07:03:33.703438Z",
     "shell.execute_reply": "2020-10-05T07:03:33.702687Z"
    },
    "papermill": {
     "duration": 0.104554,
     "end_time": "2020-10-05T07:03:33.703566",
     "exception": false,
     "start_time": "2020-10-05T07:03:33.599012",
     "status": "completed"
    },
    "tags": []
   },
   "outputs": [],
   "source": [
    "test_features['cp_dose'] = test_features['cp_dose'].astype('category')\n",
    "test_features['cp_dose'].cat.categories = [0, 1]\n",
    "test_features['cp_dose'] = test_features['cp_dose'].astype(\"int\")"
   ]
  },
  {
   "cell_type": "code",
   "execution_count": 36,
   "metadata": {
    "execution": {
     "iopub.execute_input": "2020-10-05T07:03:33.870640Z",
     "iopub.status.busy": "2020-10-05T07:03:33.869732Z",
     "iopub.status.idle": "2020-10-05T07:03:33.873003Z",
     "shell.execute_reply": "2020-10-05T07:03:33.872246Z"
    },
    "papermill": {
     "duration": 0.091538,
     "end_time": "2020-10-05T07:03:33.873139",
     "exception": false,
     "start_time": "2020-10-05T07:03:33.781601",
     "status": "completed"
    },
    "tags": []
   },
   "outputs": [],
   "source": [
    "test_features['cp_time'] = test_features['cp_time'].astype('category')\n",
    "test_features['cp_time'].cat.categories = [0, 1, 2]\n",
    "test_features['cp_time'] = test_features['cp_time'].astype(\"int\")"
   ]
  },
  {
   "cell_type": "code",
   "execution_count": 37,
   "metadata": {
    "execution": {
     "iopub.execute_input": "2020-10-05T07:03:34.062641Z",
     "iopub.status.busy": "2020-10-05T07:03:34.061800Z",
     "iopub.status.idle": "2020-10-05T07:03:34.066235Z",
     "shell.execute_reply": "2020-10-05T07:03:34.066773Z"
    },
    "papermill": {
     "duration": 0.114774,
     "end_time": "2020-10-05T07:03:34.066949",
     "exception": false,
     "start_time": "2020-10-05T07:03:33.952175",
     "status": "completed"
    },
    "tags": []
   },
   "outputs": [
    {
     "data": {
      "text/html": [
       "<div>\n",
       "<style scoped>\n",
       "    .dataframe tbody tr th:only-of-type {\n",
       "        vertical-align: middle;\n",
       "    }\n",
       "\n",
       "    .dataframe tbody tr th {\n",
       "        vertical-align: top;\n",
       "    }\n",
       "\n",
       "    .dataframe thead th {\n",
       "        text-align: right;\n",
       "    }\n",
       "</style>\n",
       "<table border=\"1\" class=\"dataframe\">\n",
       "  <thead>\n",
       "    <tr style=\"text-align: right;\">\n",
       "      <th></th>\n",
       "      <th>sig_id</th>\n",
       "      <th>cp_type</th>\n",
       "      <th>cp_time</th>\n",
       "      <th>cp_dose</th>\n",
       "      <th>g-0</th>\n",
       "      <th>g-1</th>\n",
       "      <th>g-2</th>\n",
       "      <th>g-3</th>\n",
       "      <th>g-4</th>\n",
       "      <th>g-5</th>\n",
       "      <th>...</th>\n",
       "      <th>c-90</th>\n",
       "      <th>c-91</th>\n",
       "      <th>c-92</th>\n",
       "      <th>c-93</th>\n",
       "      <th>c-94</th>\n",
       "      <th>c-95</th>\n",
       "      <th>c-96</th>\n",
       "      <th>c-97</th>\n",
       "      <th>c-98</th>\n",
       "      <th>c-99</th>\n",
       "    </tr>\n",
       "  </thead>\n",
       "  <tbody>\n",
       "    <tr>\n",
       "      <th>0</th>\n",
       "      <td>id_0004d9e33</td>\n",
       "      <td>1</td>\n",
       "      <td>0</td>\n",
       "      <td>0</td>\n",
       "      <td>-0.5458</td>\n",
       "      <td>0.1306</td>\n",
       "      <td>-0.5135</td>\n",
       "      <td>0.4408</td>\n",
       "      <td>1.5500</td>\n",
       "      <td>-0.1644</td>\n",
       "      <td>...</td>\n",
       "      <td>0.0981</td>\n",
       "      <td>0.7978</td>\n",
       "      <td>-0.1430</td>\n",
       "      <td>-0.2067</td>\n",
       "      <td>-0.2303</td>\n",
       "      <td>-0.1193</td>\n",
       "      <td>0.0210</td>\n",
       "      <td>-0.0502</td>\n",
       "      <td>0.1510</td>\n",
       "      <td>-0.7750</td>\n",
       "    </tr>\n",
       "    <tr>\n",
       "      <th>1</th>\n",
       "      <td>id_001897cda</td>\n",
       "      <td>1</td>\n",
       "      <td>2</td>\n",
       "      <td>0</td>\n",
       "      <td>-0.1829</td>\n",
       "      <td>0.2320</td>\n",
       "      <td>1.2080</td>\n",
       "      <td>-0.4522</td>\n",
       "      <td>-0.3652</td>\n",
       "      <td>-0.3319</td>\n",
       "      <td>...</td>\n",
       "      <td>-0.1190</td>\n",
       "      <td>-0.1852</td>\n",
       "      <td>-1.0310</td>\n",
       "      <td>-1.3670</td>\n",
       "      <td>-0.3690</td>\n",
       "      <td>-0.5382</td>\n",
       "      <td>0.0359</td>\n",
       "      <td>-0.4764</td>\n",
       "      <td>-1.3810</td>\n",
       "      <td>-0.7300</td>\n",
       "    </tr>\n",
       "    <tr>\n",
       "      <th>2</th>\n",
       "      <td>id_002429b5b</td>\n",
       "      <td>0</td>\n",
       "      <td>0</td>\n",
       "      <td>0</td>\n",
       "      <td>0.1852</td>\n",
       "      <td>-0.1404</td>\n",
       "      <td>-0.3911</td>\n",
       "      <td>0.1310</td>\n",
       "      <td>-1.4380</td>\n",
       "      <td>0.2455</td>\n",
       "      <td>...</td>\n",
       "      <td>-0.2261</td>\n",
       "      <td>0.3370</td>\n",
       "      <td>-1.3840</td>\n",
       "      <td>0.8604</td>\n",
       "      <td>-1.9530</td>\n",
       "      <td>-1.0140</td>\n",
       "      <td>0.8662</td>\n",
       "      <td>1.0160</td>\n",
       "      <td>0.4924</td>\n",
       "      <td>-0.1942</td>\n",
       "    </tr>\n",
       "    <tr>\n",
       "      <th>3</th>\n",
       "      <td>id_00276f245</td>\n",
       "      <td>1</td>\n",
       "      <td>0</td>\n",
       "      <td>1</td>\n",
       "      <td>0.4828</td>\n",
       "      <td>0.1955</td>\n",
       "      <td>0.3825</td>\n",
       "      <td>0.4244</td>\n",
       "      <td>-0.5855</td>\n",
       "      <td>-1.2020</td>\n",
       "      <td>...</td>\n",
       "      <td>0.1260</td>\n",
       "      <td>0.1570</td>\n",
       "      <td>-0.1784</td>\n",
       "      <td>-1.1200</td>\n",
       "      <td>-0.4325</td>\n",
       "      <td>-0.9005</td>\n",
       "      <td>0.8131</td>\n",
       "      <td>-0.1305</td>\n",
       "      <td>0.5645</td>\n",
       "      <td>-0.5809</td>\n",
       "    </tr>\n",
       "    <tr>\n",
       "      <th>4</th>\n",
       "      <td>id_0027f1083</td>\n",
       "      <td>1</td>\n",
       "      <td>1</td>\n",
       "      <td>0</td>\n",
       "      <td>-0.3979</td>\n",
       "      <td>-1.2680</td>\n",
       "      <td>1.9130</td>\n",
       "      <td>0.2057</td>\n",
       "      <td>-0.5864</td>\n",
       "      <td>-0.0166</td>\n",
       "      <td>...</td>\n",
       "      <td>0.4965</td>\n",
       "      <td>0.7578</td>\n",
       "      <td>-0.1580</td>\n",
       "      <td>1.0510</td>\n",
       "      <td>0.5742</td>\n",
       "      <td>1.0900</td>\n",
       "      <td>-0.2962</td>\n",
       "      <td>-0.5313</td>\n",
       "      <td>0.9931</td>\n",
       "      <td>1.8380</td>\n",
       "    </tr>\n",
       "  </tbody>\n",
       "</table>\n",
       "<p>5 rows × 876 columns</p>\n",
       "</div>"
      ],
      "text/plain": [
       "         sig_id  cp_type  cp_time  cp_dose     g-0     g-1     g-2     g-3  \\\n",
       "0  id_0004d9e33        1        0        0 -0.5458  0.1306 -0.5135  0.4408   \n",
       "1  id_001897cda        1        2        0 -0.1829  0.2320  1.2080 -0.4522   \n",
       "2  id_002429b5b        0        0        0  0.1852 -0.1404 -0.3911  0.1310   \n",
       "3  id_00276f245        1        0        1  0.4828  0.1955  0.3825  0.4244   \n",
       "4  id_0027f1083        1        1        0 -0.3979 -1.2680  1.9130  0.2057   \n",
       "\n",
       "      g-4     g-5  ...    c-90    c-91    c-92    c-93    c-94    c-95  \\\n",
       "0  1.5500 -0.1644  ...  0.0981  0.7978 -0.1430 -0.2067 -0.2303 -0.1193   \n",
       "1 -0.3652 -0.3319  ... -0.1190 -0.1852 -1.0310 -1.3670 -0.3690 -0.5382   \n",
       "2 -1.4380  0.2455  ... -0.2261  0.3370 -1.3840  0.8604 -1.9530 -1.0140   \n",
       "3 -0.5855 -1.2020  ...  0.1260  0.1570 -0.1784 -1.1200 -0.4325 -0.9005   \n",
       "4 -0.5864 -0.0166  ...  0.4965  0.7578 -0.1580  1.0510  0.5742  1.0900   \n",
       "\n",
       "     c-96    c-97    c-98    c-99  \n",
       "0  0.0210 -0.0502  0.1510 -0.7750  \n",
       "1  0.0359 -0.4764 -1.3810 -0.7300  \n",
       "2  0.8662  1.0160  0.4924 -0.1942  \n",
       "3  0.8131 -0.1305  0.5645 -0.5809  \n",
       "4 -0.2962 -0.5313  0.9931  1.8380  \n",
       "\n",
       "[5 rows x 876 columns]"
      ]
     },
     "execution_count": 37,
     "metadata": {},
     "output_type": "execute_result"
    }
   ],
   "source": [
    "test_features.head()"
   ]
  },
  {
   "cell_type": "markdown",
   "metadata": {
    "papermill": {
     "duration": 0.079806,
     "end_time": "2020-10-05T07:03:34.226546",
     "exception": false,
     "start_time": "2020-10-05T07:03:34.146740",
     "status": "completed"
    },
    "tags": []
   },
   "source": [
    "# Targets"
   ]
  },
  {
   "cell_type": "code",
   "execution_count": 38,
   "metadata": {
    "execution": {
     "iopub.execute_input": "2020-10-05T07:03:34.391769Z",
     "iopub.status.busy": "2020-10-05T07:03:34.390646Z",
     "iopub.status.idle": "2020-10-05T07:03:34.394220Z",
     "shell.execute_reply": "2020-10-05T07:03:34.393453Z"
    },
    "papermill": {
     "duration": 0.089116,
     "end_time": "2020-10-05T07:03:34.394350",
     "exception": false,
     "start_time": "2020-10-05T07:03:34.305234",
     "status": "completed"
    },
    "tags": []
   },
   "outputs": [],
   "source": [
    "targets = train_targets_scored"
   ]
  },
  {
   "cell_type": "code",
   "execution_count": 39,
   "metadata": {
    "execution": {
     "iopub.execute_input": "2020-10-05T07:03:34.576987Z",
     "iopub.status.busy": "2020-10-05T07:03:34.576186Z",
     "iopub.status.idle": "2020-10-05T07:03:34.581928Z",
     "shell.execute_reply": "2020-10-05T07:03:34.581188Z"
    },
    "papermill": {
     "duration": 0.108056,
     "end_time": "2020-10-05T07:03:34.582054",
     "exception": false,
     "start_time": "2020-10-05T07:03:34.473998",
     "status": "completed"
    },
    "tags": []
   },
   "outputs": [
    {
     "data": {
      "text/html": [
       "<div>\n",
       "<style scoped>\n",
       "    .dataframe tbody tr th:only-of-type {\n",
       "        vertical-align: middle;\n",
       "    }\n",
       "\n",
       "    .dataframe tbody tr th {\n",
       "        vertical-align: top;\n",
       "    }\n",
       "\n",
       "    .dataframe thead th {\n",
       "        text-align: right;\n",
       "    }\n",
       "</style>\n",
       "<table border=\"1\" class=\"dataframe\">\n",
       "  <thead>\n",
       "    <tr style=\"text-align: right;\">\n",
       "      <th></th>\n",
       "      <th>sig_id</th>\n",
       "      <th>5-alpha_reductase_inhibitor</th>\n",
       "      <th>11-beta-hsd1_inhibitor</th>\n",
       "      <th>acat_inhibitor</th>\n",
       "      <th>acetylcholine_receptor_agonist</th>\n",
       "      <th>acetylcholine_receptor_antagonist</th>\n",
       "      <th>acetylcholinesterase_inhibitor</th>\n",
       "      <th>adenosine_receptor_agonist</th>\n",
       "      <th>adenosine_receptor_antagonist</th>\n",
       "      <th>adenylyl_cyclase_activator</th>\n",
       "      <th>...</th>\n",
       "      <th>tropomyosin_receptor_kinase_inhibitor</th>\n",
       "      <th>trpv_agonist</th>\n",
       "      <th>trpv_antagonist</th>\n",
       "      <th>tubulin_inhibitor</th>\n",
       "      <th>tyrosine_kinase_inhibitor</th>\n",
       "      <th>ubiquitin_specific_protease_inhibitor</th>\n",
       "      <th>vegfr_inhibitor</th>\n",
       "      <th>vitamin_b</th>\n",
       "      <th>vitamin_d_receptor_agonist</th>\n",
       "      <th>wnt_inhibitor</th>\n",
       "    </tr>\n",
       "  </thead>\n",
       "  <tbody>\n",
       "    <tr>\n",
       "      <th>0</th>\n",
       "      <td>id_000644bb2</td>\n",
       "      <td>0</td>\n",
       "      <td>0</td>\n",
       "      <td>0</td>\n",
       "      <td>0</td>\n",
       "      <td>0</td>\n",
       "      <td>0</td>\n",
       "      <td>0</td>\n",
       "      <td>0</td>\n",
       "      <td>0</td>\n",
       "      <td>...</td>\n",
       "      <td>0</td>\n",
       "      <td>0</td>\n",
       "      <td>0</td>\n",
       "      <td>0</td>\n",
       "      <td>0</td>\n",
       "      <td>0</td>\n",
       "      <td>0</td>\n",
       "      <td>0</td>\n",
       "      <td>0</td>\n",
       "      <td>0</td>\n",
       "    </tr>\n",
       "    <tr>\n",
       "      <th>1</th>\n",
       "      <td>id_000779bfc</td>\n",
       "      <td>0</td>\n",
       "      <td>0</td>\n",
       "      <td>0</td>\n",
       "      <td>0</td>\n",
       "      <td>0</td>\n",
       "      <td>0</td>\n",
       "      <td>0</td>\n",
       "      <td>0</td>\n",
       "      <td>0</td>\n",
       "      <td>...</td>\n",
       "      <td>0</td>\n",
       "      <td>0</td>\n",
       "      <td>0</td>\n",
       "      <td>0</td>\n",
       "      <td>0</td>\n",
       "      <td>0</td>\n",
       "      <td>0</td>\n",
       "      <td>0</td>\n",
       "      <td>0</td>\n",
       "      <td>0</td>\n",
       "    </tr>\n",
       "    <tr>\n",
       "      <th>2</th>\n",
       "      <td>id_000a6266a</td>\n",
       "      <td>0</td>\n",
       "      <td>0</td>\n",
       "      <td>0</td>\n",
       "      <td>0</td>\n",
       "      <td>0</td>\n",
       "      <td>0</td>\n",
       "      <td>0</td>\n",
       "      <td>0</td>\n",
       "      <td>0</td>\n",
       "      <td>...</td>\n",
       "      <td>0</td>\n",
       "      <td>0</td>\n",
       "      <td>0</td>\n",
       "      <td>0</td>\n",
       "      <td>0</td>\n",
       "      <td>0</td>\n",
       "      <td>0</td>\n",
       "      <td>0</td>\n",
       "      <td>0</td>\n",
       "      <td>0</td>\n",
       "    </tr>\n",
       "    <tr>\n",
       "      <th>3</th>\n",
       "      <td>id_0015fd391</td>\n",
       "      <td>0</td>\n",
       "      <td>0</td>\n",
       "      <td>0</td>\n",
       "      <td>0</td>\n",
       "      <td>0</td>\n",
       "      <td>0</td>\n",
       "      <td>0</td>\n",
       "      <td>0</td>\n",
       "      <td>0</td>\n",
       "      <td>...</td>\n",
       "      <td>0</td>\n",
       "      <td>0</td>\n",
       "      <td>0</td>\n",
       "      <td>0</td>\n",
       "      <td>0</td>\n",
       "      <td>0</td>\n",
       "      <td>0</td>\n",
       "      <td>0</td>\n",
       "      <td>0</td>\n",
       "      <td>0</td>\n",
       "    </tr>\n",
       "    <tr>\n",
       "      <th>4</th>\n",
       "      <td>id_001626bd3</td>\n",
       "      <td>0</td>\n",
       "      <td>0</td>\n",
       "      <td>0</td>\n",
       "      <td>0</td>\n",
       "      <td>0</td>\n",
       "      <td>0</td>\n",
       "      <td>0</td>\n",
       "      <td>0</td>\n",
       "      <td>0</td>\n",
       "      <td>...</td>\n",
       "      <td>0</td>\n",
       "      <td>0</td>\n",
       "      <td>0</td>\n",
       "      <td>0</td>\n",
       "      <td>0</td>\n",
       "      <td>0</td>\n",
       "      <td>0</td>\n",
       "      <td>0</td>\n",
       "      <td>0</td>\n",
       "      <td>0</td>\n",
       "    </tr>\n",
       "  </tbody>\n",
       "</table>\n",
       "<p>5 rows × 207 columns</p>\n",
       "</div>"
      ],
      "text/plain": [
       "         sig_id  5-alpha_reductase_inhibitor  11-beta-hsd1_inhibitor  \\\n",
       "0  id_000644bb2                            0                       0   \n",
       "1  id_000779bfc                            0                       0   \n",
       "2  id_000a6266a                            0                       0   \n",
       "3  id_0015fd391                            0                       0   \n",
       "4  id_001626bd3                            0                       0   \n",
       "\n",
       "   acat_inhibitor  acetylcholine_receptor_agonist  \\\n",
       "0               0                               0   \n",
       "1               0                               0   \n",
       "2               0                               0   \n",
       "3               0                               0   \n",
       "4               0                               0   \n",
       "\n",
       "   acetylcholine_receptor_antagonist  acetylcholinesterase_inhibitor  \\\n",
       "0                                  0                               0   \n",
       "1                                  0                               0   \n",
       "2                                  0                               0   \n",
       "3                                  0                               0   \n",
       "4                                  0                               0   \n",
       "\n",
       "   adenosine_receptor_agonist  adenosine_receptor_antagonist  \\\n",
       "0                           0                              0   \n",
       "1                           0                              0   \n",
       "2                           0                              0   \n",
       "3                           0                              0   \n",
       "4                           0                              0   \n",
       "\n",
       "   adenylyl_cyclase_activator  ...  tropomyosin_receptor_kinase_inhibitor  \\\n",
       "0                           0  ...                                      0   \n",
       "1                           0  ...                                      0   \n",
       "2                           0  ...                                      0   \n",
       "3                           0  ...                                      0   \n",
       "4                           0  ...                                      0   \n",
       "\n",
       "   trpv_agonist  trpv_antagonist  tubulin_inhibitor  \\\n",
       "0             0                0                  0   \n",
       "1             0                0                  0   \n",
       "2             0                0                  0   \n",
       "3             0                0                  0   \n",
       "4             0                0                  0   \n",
       "\n",
       "   tyrosine_kinase_inhibitor  ubiquitin_specific_protease_inhibitor  \\\n",
       "0                          0                                      0   \n",
       "1                          0                                      0   \n",
       "2                          0                                      0   \n",
       "3                          0                                      0   \n",
       "4                          0                                      0   \n",
       "\n",
       "   vegfr_inhibitor  vitamin_b  vitamin_d_receptor_agonist  wnt_inhibitor  \n",
       "0                0          0                           0              0  \n",
       "1                0          0                           0              0  \n",
       "2                0          0                           0              0  \n",
       "3                0          0                           0              0  \n",
       "4                0          0                           0              0  \n",
       "\n",
       "[5 rows x 207 columns]"
      ]
     },
     "execution_count": 39,
     "metadata": {},
     "output_type": "execute_result"
    }
   ],
   "source": [
    "targets.head()"
   ]
  },
  {
   "cell_type": "code",
   "execution_count": 40,
   "metadata": {
    "execution": {
     "iopub.execute_input": "2020-10-05T07:03:34.751880Z",
     "iopub.status.busy": "2020-10-05T07:03:34.751048Z",
     "iopub.status.idle": "2020-10-05T07:03:34.755954Z",
     "shell.execute_reply": "2020-10-05T07:03:34.755259Z"
    },
    "papermill": {
     "duration": 0.092348,
     "end_time": "2020-10-05T07:03:34.756092",
     "exception": false,
     "start_time": "2020-10-05T07:03:34.663744",
     "status": "completed"
    },
    "tags": []
   },
   "outputs": [
    {
     "name": "stdout",
     "output_type": "stream",
     "text": [
      "The Tergets dataset has 23814 rows and 207 columns.\n"
     ]
    }
   ],
   "source": [
    "print('The Tergets dataset has {} rows and {} columns.'.format(len(targets), len(targets.columns)))"
   ]
  },
  {
   "cell_type": "code",
   "execution_count": 41,
   "metadata": {
    "execution": {
     "iopub.execute_input": "2020-10-05T07:03:34.925272Z",
     "iopub.status.busy": "2020-10-05T07:03:34.924281Z",
     "iopub.status.idle": "2020-10-05T07:03:34.927554Z",
     "shell.execute_reply": "2020-10-05T07:03:34.926846Z"
    },
    "papermill": {
     "duration": 0.089739,
     "end_time": "2020-10-05T07:03:34.927696",
     "exception": false,
     "start_time": "2020-10-05T07:03:34.837957",
     "status": "completed"
    },
    "tags": []
   },
   "outputs": [],
   "source": [
    "target_cols = targets.columns[1:]"
   ]
  },
  {
   "cell_type": "markdown",
   "metadata": {
    "papermill": {
     "duration": 0.080506,
     "end_time": "2020-10-05T07:03:35.093283",
     "exception": false,
     "start_time": "2020-10-05T07:03:35.012777",
     "status": "completed"
    },
    "tags": []
   },
   "source": [
    "Top 20 most frequent targets."
   ]
  },
  {
   "cell_type": "code",
   "execution_count": 42,
   "metadata": {
    "execution": {
     "iopub.execute_input": "2020-10-05T07:03:35.280214Z",
     "iopub.status.busy": "2020-10-05T07:03:35.279123Z",
     "iopub.status.idle": "2020-10-05T07:03:35.292324Z",
     "shell.execute_reply": "2020-10-05T07:03:35.291541Z"
    },
    "papermill": {
     "duration": 0.116712,
     "end_time": "2020-10-05T07:03:35.292447",
     "exception": false,
     "start_time": "2020-10-05T07:03:35.175735",
     "status": "completed"
    },
    "tags": []
   },
   "outputs": [],
   "source": [
    "targets_fre = (targets[target_cols].mean() * 100).sort_values()[-20:].index"
   ]
  },
  {
   "cell_type": "code",
   "execution_count": 43,
   "metadata": {
    "execution": {
     "iopub.execute_input": "2020-10-05T07:03:35.464251Z",
     "iopub.status.busy": "2020-10-05T07:03:35.463253Z",
     "iopub.status.idle": "2020-10-05T07:03:35.770190Z",
     "shell.execute_reply": "2020-10-05T07:03:35.769385Z"
    },
    "papermill": {
     "duration": 0.396855,
     "end_time": "2020-10-05T07:03:35.770320",
     "exception": false,
     "start_time": "2020-10-05T07:03:35.373465",
     "status": "completed"
    },
    "tags": []
   },
   "outputs": [
    {
     "data": {
      "image/png": "[encoded data removed]",
      "text/plain": [
       "<Figure size 1080x288 with 1 Axes>"
      ]
     },
     "metadata": {
      "needs_background": "light"
     },
     "output_type": "display_data"
    }
   ],
   "source": [
    "plt.figure(figsize=(15,4))\n",
    "(targets[targets_fre].mean() * 100).sort_values().plot.bar()\n",
    "plt.title('Most frequent targets')\n",
    "plt.ylabel('% of true labels')\n",
    "plt.show()"
   ]
  },
  {
   "cell_type": "code",
   "execution_count": 44,
   "metadata": {
    "execution": {
     "iopub.execute_input": "2020-10-05T07:03:35.962861Z",
     "iopub.status.busy": "2020-10-05T07:03:35.961354Z",
     "iopub.status.idle": "2020-10-05T07:03:36.166763Z",
     "shell.execute_reply": "2020-10-05T07:03:36.167370Z"
    },
    "papermill": {
     "duration": 0.313441,
     "end_time": "2020-10-05T07:03:36.167545",
     "exception": false,
     "start_time": "2020-10-05T07:03:35.854104",
     "status": "completed"
    },
    "tags": []
   },
   "outputs": [
    {
     "data": {
      "image/png": "[encoded data removed]",
      "text/plain": [
       "<Figure size 1080x288 with 1 Axes>"
      ]
     },
     "metadata": {
      "needs_background": "light"
     },
     "output_type": "display_data"
    }
   ],
   "source": [
    "plt.figure(figsize=(15,4))\n",
    "vc = targets[target_cols].sum(axis=1).value_counts()\n",
    "plt.title('True labels per row distribution')\n",
    "plt.ylabel('# of rows')\n",
    "plt.xlabel('# of true targets per row')\n",
    "plt.bar(vc.index, vc.values)\n",
    "plt.show()"
   ]
  },
  {
   "cell_type": "code",
   "execution_count": 45,
   "metadata": {
    "execution": {
     "iopub.execute_input": "2020-10-05T07:03:36.358927Z",
     "iopub.status.busy": "2020-10-05T07:03:36.357963Z",
     "iopub.status.idle": "2020-10-05T07:03:36.361187Z",
     "shell.execute_reply": "2020-10-05T07:03:36.360580Z"
    },
    "papermill": {
     "duration": 0.10831,
     "end_time": "2020-10-05T07:03:36.361314",
     "exception": false,
     "start_time": "2020-10-05T07:03:36.253004",
     "status": "completed"
    },
    "tags": []
   },
   "outputs": [],
   "source": [
    "train_targets_scored.drop(['sig_id'], axis=1, inplace=True)"
   ]
  },
  {
   "cell_type": "code",
   "execution_count": 46,
   "metadata": {
    "execution": {
     "iopub.execute_input": "2020-10-05T07:03:36.552282Z",
     "iopub.status.busy": "2020-10-05T07:03:36.551198Z",
     "iopub.status.idle": "2020-10-05T07:03:36.556265Z",
     "shell.execute_reply": "2020-10-05T07:03:36.555634Z"
    },
    "papermill": {
     "duration": 0.109604,
     "end_time": "2020-10-05T07:03:36.556406",
     "exception": false,
     "start_time": "2020-10-05T07:03:36.446802",
     "status": "completed"
    },
    "tags": []
   },
   "outputs": [
    {
     "data": {
      "text/html": [
       "<div>\n",
       "<style scoped>\n",
       "    .dataframe tbody tr th:only-of-type {\n",
       "        vertical-align: middle;\n",
       "    }\n",
       "\n",
       "    .dataframe tbody tr th {\n",
       "        vertical-align: top;\n",
       "    }\n",
       "\n",
       "    .dataframe thead th {\n",
       "        text-align: right;\n",
       "    }\n",
       "</style>\n",
       "<table border=\"1\" class=\"dataframe\">\n",
       "  <thead>\n",
       "    <tr style=\"text-align: right;\">\n",
       "      <th></th>\n",
       "      <th>5-alpha_reductase_inhibitor</th>\n",
       "      <th>11-beta-hsd1_inhibitor</th>\n",
       "      <th>acat_inhibitor</th>\n",
       "      <th>acetylcholine_receptor_agonist</th>\n",
       "      <th>acetylcholine_receptor_antagonist</th>\n",
       "      <th>acetylcholinesterase_inhibitor</th>\n",
       "      <th>adenosine_receptor_agonist</th>\n",
       "      <th>adenosine_receptor_antagonist</th>\n",
       "      <th>adenylyl_cyclase_activator</th>\n",
       "      <th>adrenergic_receptor_agonist</th>\n",
       "      <th>...</th>\n",
       "      <th>tropomyosin_receptor_kinase_inhibitor</th>\n",
       "      <th>trpv_agonist</th>\n",
       "      <th>trpv_antagonist</th>\n",
       "      <th>tubulin_inhibitor</th>\n",
       "      <th>tyrosine_kinase_inhibitor</th>\n",
       "      <th>ubiquitin_specific_protease_inhibitor</th>\n",
       "      <th>vegfr_inhibitor</th>\n",
       "      <th>vitamin_b</th>\n",
       "      <th>vitamin_d_receptor_agonist</th>\n",
       "      <th>wnt_inhibitor</th>\n",
       "    </tr>\n",
       "  </thead>\n",
       "  <tbody>\n",
       "    <tr>\n",
       "      <th>0</th>\n",
       "      <td>0</td>\n",
       "      <td>0</td>\n",
       "      <td>0</td>\n",
       "      <td>0</td>\n",
       "      <td>0</td>\n",
       "      <td>0</td>\n",
       "      <td>0</td>\n",
       "      <td>0</td>\n",
       "      <td>0</td>\n",
       "      <td>0</td>\n",
       "      <td>...</td>\n",
       "      <td>0</td>\n",
       "      <td>0</td>\n",
       "      <td>0</td>\n",
       "      <td>0</td>\n",
       "      <td>0</td>\n",
       "      <td>0</td>\n",
       "      <td>0</td>\n",
       "      <td>0</td>\n",
       "      <td>0</td>\n",
       "      <td>0</td>\n",
       "    </tr>\n",
       "    <tr>\n",
       "      <th>1</th>\n",
       "      <td>0</td>\n",
       "      <td>0</td>\n",
       "      <td>0</td>\n",
       "      <td>0</td>\n",
       "      <td>0</td>\n",
       "      <td>0</td>\n",
       "      <td>0</td>\n",
       "      <td>0</td>\n",
       "      <td>0</td>\n",
       "      <td>0</td>\n",
       "      <td>...</td>\n",
       "      <td>0</td>\n",
       "      <td>0</td>\n",
       "      <td>0</td>\n",
       "      <td>0</td>\n",
       "      <td>0</td>\n",
       "      <td>0</td>\n",
       "      <td>0</td>\n",
       "      <td>0</td>\n",
       "      <td>0</td>\n",
       "      <td>0</td>\n",
       "    </tr>\n",
       "    <tr>\n",
       "      <th>2</th>\n",
       "      <td>0</td>\n",
       "      <td>0</td>\n",
       "      <td>0</td>\n",
       "      <td>0</td>\n",
       "      <td>0</td>\n",
       "      <td>0</td>\n",
       "      <td>0</td>\n",
       "      <td>0</td>\n",
       "      <td>0</td>\n",
       "      <td>0</td>\n",
       "      <td>...</td>\n",
       "      <td>0</td>\n",
       "      <td>0</td>\n",
       "      <td>0</td>\n",
       "      <td>0</td>\n",
       "      <td>0</td>\n",
       "      <td>0</td>\n",
       "      <td>0</td>\n",
       "      <td>0</td>\n",
       "      <td>0</td>\n",
       "      <td>0</td>\n",
       "    </tr>\n",
       "    <tr>\n",
       "      <th>3</th>\n",
       "      <td>0</td>\n",
       "      <td>0</td>\n",
       "      <td>0</td>\n",
       "      <td>0</td>\n",
       "      <td>0</td>\n",
       "      <td>0</td>\n",
       "      <td>0</td>\n",
       "      <td>0</td>\n",
       "      <td>0</td>\n",
       "      <td>0</td>\n",
       "      <td>...</td>\n",
       "      <td>0</td>\n",
       "      <td>0</td>\n",
       "      <td>0</td>\n",
       "      <td>0</td>\n",
       "      <td>0</td>\n",
       "      <td>0</td>\n",
       "      <td>0</td>\n",
       "      <td>0</td>\n",
       "      <td>0</td>\n",
       "      <td>0</td>\n",
       "    </tr>\n",
       "    <tr>\n",
       "      <th>4</th>\n",
       "      <td>0</td>\n",
       "      <td>0</td>\n",
       "      <td>0</td>\n",
       "      <td>0</td>\n",
       "      <td>0</td>\n",
       "      <td>0</td>\n",
       "      <td>0</td>\n",
       "      <td>0</td>\n",
       "      <td>0</td>\n",
       "      <td>0</td>\n",
       "      <td>...</td>\n",
       "      <td>0</td>\n",
       "      <td>0</td>\n",
       "      <td>0</td>\n",
       "      <td>0</td>\n",
       "      <td>0</td>\n",
       "      <td>0</td>\n",
       "      <td>0</td>\n",
       "      <td>0</td>\n",
       "      <td>0</td>\n",
       "      <td>0</td>\n",
       "    </tr>\n",
       "  </tbody>\n",
       "</table>\n",
       "<p>5 rows × 206 columns</p>\n",
       "</div>"
      ],
      "text/plain": [
       "   5-alpha_reductase_inhibitor  11-beta-hsd1_inhibitor  acat_inhibitor  \\\n",
       "0                            0                       0               0   \n",
       "1                            0                       0               0   \n",
       "2                            0                       0               0   \n",
       "3                            0                       0               0   \n",
       "4                            0                       0               0   \n",
       "\n",
       "   acetylcholine_receptor_agonist  acetylcholine_receptor_antagonist  \\\n",
       "0                               0                                  0   \n",
       "1                               0                                  0   \n",
       "2                               0                                  0   \n",
       "3                               0                                  0   \n",
       "4                               0                                  0   \n",
       "\n",
       "   acetylcholinesterase_inhibitor  adenosine_receptor_agonist  \\\n",
       "0                               0                           0   \n",
       "1                               0                           0   \n",
       "2                               0                           0   \n",
       "3                               0                           0   \n",
       "4                               0                           0   \n",
       "\n",
       "   adenosine_receptor_antagonist  adenylyl_cyclase_activator  \\\n",
       "0                              0                           0   \n",
       "1                              0                           0   \n",
       "2                              0                           0   \n",
       "3                              0                           0   \n",
       "4                              0                           0   \n",
       "\n",
       "   adrenergic_receptor_agonist  ...  tropomyosin_receptor_kinase_inhibitor  \\\n",
       "0                            0  ...                                      0   \n",
       "1                            0  ...                                      0   \n",
       "2                            0  ...                                      0   \n",
       "3                            0  ...                                      0   \n",
       "4                            0  ...                                      0   \n",
       "\n",
       "   trpv_agonist  trpv_antagonist  tubulin_inhibitor  \\\n",
       "0             0                0                  0   \n",
       "1             0                0                  0   \n",
       "2             0                0                  0   \n",
       "3             0                0                  0   \n",
       "4             0                0                  0   \n",
       "\n",
       "   tyrosine_kinase_inhibitor  ubiquitin_specific_protease_inhibitor  \\\n",
       "0                          0                                      0   \n",
       "1                          0                                      0   \n",
       "2                          0                                      0   \n",
       "3                          0                                      0   \n",
       "4                          0                                      0   \n",
       "\n",
       "   vegfr_inhibitor  vitamin_b  vitamin_d_receptor_agonist  wnt_inhibitor  \n",
       "0                0          0                           0              0  \n",
       "1                0          0                           0              0  \n",
       "2                0          0                           0              0  \n",
       "3                0          0                           0              0  \n",
       "4                0          0                           0              0  \n",
       "\n",
       "[5 rows x 206 columns]"
      ]
     },
     "execution_count": 46,
     "metadata": {},
     "output_type": "execute_result"
    }
   ],
   "source": [
    "train_targets_scored.head()"
   ]
  },
  {
   "cell_type": "code",
   "execution_count": 47,
   "metadata": {
    "execution": {
     "iopub.execute_input": "2020-10-05T07:03:36.735484Z",
     "iopub.status.busy": "2020-10-05T07:03:36.734597Z",
     "iopub.status.idle": "2020-10-05T07:03:36.738338Z",
     "shell.execute_reply": "2020-10-05T07:03:36.737693Z"
    },
    "papermill": {
     "duration": 0.09657,
     "end_time": "2020-10-05T07:03:36.738464",
     "exception": false,
     "start_time": "2020-10-05T07:03:36.641894",
     "status": "completed"
    },
    "tags": []
   },
   "outputs": [],
   "source": [
    "test_ids = test_features['sig_id']"
   ]
  },
  {
   "cell_type": "code",
   "execution_count": 48,
   "metadata": {
    "execution": {
     "iopub.execute_input": "2020-10-05T07:03:37.008792Z",
     "iopub.status.busy": "2020-10-05T07:03:36.997919Z",
     "iopub.status.idle": "2020-10-05T07:03:37.034282Z",
     "shell.execute_reply": "2020-10-05T07:03:37.034906Z"
    },
    "papermill": {
     "duration": 0.21126,
     "end_time": "2020-10-05T07:03:37.035070",
     "exception": false,
     "start_time": "2020-10-05T07:03:36.823810",
     "status": "completed"
    },
    "tags": []
   },
   "outputs": [
    {
     "data": {
      "text/html": [
       "<div>\n",
       "<style scoped>\n",
       "    .dataframe tbody tr th:only-of-type {\n",
       "        vertical-align: middle;\n",
       "    }\n",
       "\n",
       "    .dataframe tbody tr th {\n",
       "        vertical-align: top;\n",
       "    }\n",
       "\n",
       "    .dataframe thead th {\n",
       "        text-align: right;\n",
       "    }\n",
       "</style>\n",
       "<table border=\"1\" class=\"dataframe\">\n",
       "  <thead>\n",
       "    <tr style=\"text-align: right;\">\n",
       "      <th></th>\n",
       "      <th>sig_id</th>\n",
       "      <th>cp_type</th>\n",
       "      <th>cp_time</th>\n",
       "      <th>cp_dose</th>\n",
       "      <th>g-0</th>\n",
       "      <th>g-1</th>\n",
       "      <th>g-2</th>\n",
       "      <th>g-3</th>\n",
       "      <th>g-4</th>\n",
       "      <th>g-5</th>\n",
       "      <th>...</th>\n",
       "      <th>c-90</th>\n",
       "      <th>c-91</th>\n",
       "      <th>c-92</th>\n",
       "      <th>c-93</th>\n",
       "      <th>c-94</th>\n",
       "      <th>c-95</th>\n",
       "      <th>c-96</th>\n",
       "      <th>c-97</th>\n",
       "      <th>c-98</th>\n",
       "      <th>c-99</th>\n",
       "    </tr>\n",
       "  </thead>\n",
       "  <tbody>\n",
       "    <tr>\n",
       "      <th>0</th>\n",
       "      <td>id_000644bb2</td>\n",
       "      <td>1</td>\n",
       "      <td>0</td>\n",
       "      <td>0</td>\n",
       "      <td>1.0620</td>\n",
       "      <td>0.5577</td>\n",
       "      <td>-0.2479</td>\n",
       "      <td>-0.6208</td>\n",
       "      <td>-0.1944</td>\n",
       "      <td>-1.0120</td>\n",
       "      <td>...</td>\n",
       "      <td>0.2862</td>\n",
       "      <td>0.2584</td>\n",
       "      <td>0.8076</td>\n",
       "      <td>0.5523</td>\n",
       "      <td>-0.1912</td>\n",
       "      <td>0.6584</td>\n",
       "      <td>-0.3981</td>\n",
       "      <td>0.2139</td>\n",
       "      <td>0.3801</td>\n",
       "      <td>0.4176</td>\n",
       "    </tr>\n",
       "    <tr>\n",
       "      <th>1</th>\n",
       "      <td>id_000779bfc</td>\n",
       "      <td>1</td>\n",
       "      <td>2</td>\n",
       "      <td>0</td>\n",
       "      <td>0.0743</td>\n",
       "      <td>0.4087</td>\n",
       "      <td>0.2991</td>\n",
       "      <td>0.0604</td>\n",
       "      <td>1.0190</td>\n",
       "      <td>0.5207</td>\n",
       "      <td>...</td>\n",
       "      <td>-0.4265</td>\n",
       "      <td>0.7543</td>\n",
       "      <td>0.4708</td>\n",
       "      <td>0.0230</td>\n",
       "      <td>0.2957</td>\n",
       "      <td>0.4899</td>\n",
       "      <td>0.1522</td>\n",
       "      <td>0.1241</td>\n",
       "      <td>0.6077</td>\n",
       "      <td>0.7371</td>\n",
       "    </tr>\n",
       "    <tr>\n",
       "      <th>2</th>\n",
       "      <td>id_000a6266a</td>\n",
       "      <td>1</td>\n",
       "      <td>1</td>\n",
       "      <td>0</td>\n",
       "      <td>0.6280</td>\n",
       "      <td>0.5817</td>\n",
       "      <td>1.5540</td>\n",
       "      <td>-0.0764</td>\n",
       "      <td>-0.0323</td>\n",
       "      <td>1.2390</td>\n",
       "      <td>...</td>\n",
       "      <td>-0.7250</td>\n",
       "      <td>-0.6297</td>\n",
       "      <td>0.6103</td>\n",
       "      <td>0.0223</td>\n",
       "      <td>-1.3240</td>\n",
       "      <td>-0.3174</td>\n",
       "      <td>-0.6417</td>\n",
       "      <td>-0.2187</td>\n",
       "      <td>-1.4080</td>\n",
       "      <td>0.6931</td>\n",
       "    </tr>\n",
       "    <tr>\n",
       "      <th>3</th>\n",
       "      <td>id_0015fd391</td>\n",
       "      <td>1</td>\n",
       "      <td>1</td>\n",
       "      <td>0</td>\n",
       "      <td>-0.5138</td>\n",
       "      <td>-0.2491</td>\n",
       "      <td>-0.2656</td>\n",
       "      <td>0.5288</td>\n",
       "      <td>4.0620</td>\n",
       "      <td>-0.8095</td>\n",
       "      <td>...</td>\n",
       "      <td>-2.0990</td>\n",
       "      <td>-0.6441</td>\n",
       "      <td>-5.6300</td>\n",
       "      <td>-1.3780</td>\n",
       "      <td>-0.8632</td>\n",
       "      <td>-1.2880</td>\n",
       "      <td>-1.6210</td>\n",
       "      <td>-0.8784</td>\n",
       "      <td>-0.3876</td>\n",
       "      <td>-0.8154</td>\n",
       "    </tr>\n",
       "    <tr>\n",
       "      <th>4</th>\n",
       "      <td>id_001626bd3</td>\n",
       "      <td>1</td>\n",
       "      <td>2</td>\n",
       "      <td>1</td>\n",
       "      <td>-0.3254</td>\n",
       "      <td>-0.4009</td>\n",
       "      <td>0.9700</td>\n",
       "      <td>0.6919</td>\n",
       "      <td>1.4180</td>\n",
       "      <td>-0.8244</td>\n",
       "      <td>...</td>\n",
       "      <td>0.0042</td>\n",
       "      <td>0.0048</td>\n",
       "      <td>0.6670</td>\n",
       "      <td>1.0690</td>\n",
       "      <td>0.5523</td>\n",
       "      <td>-0.3031</td>\n",
       "      <td>0.1094</td>\n",
       "      <td>0.2885</td>\n",
       "      <td>-0.3786</td>\n",
       "      <td>0.7125</td>\n",
       "    </tr>\n",
       "  </tbody>\n",
       "</table>\n",
       "<p>5 rows × 876 columns</p>\n",
       "</div>"
      ],
      "text/plain": [
       "         sig_id  cp_type  cp_time  cp_dose     g-0     g-1     g-2     g-3  \\\n",
       "0  id_000644bb2        1        0        0  1.0620  0.5577 -0.2479 -0.6208   \n",
       "1  id_000779bfc        1        2        0  0.0743  0.4087  0.2991  0.0604   \n",
       "2  id_000a6266a        1        1        0  0.6280  0.5817  1.5540 -0.0764   \n",
       "3  id_0015fd391        1        1        0 -0.5138 -0.2491 -0.2656  0.5288   \n",
       "4  id_001626bd3        1        2        1 -0.3254 -0.4009  0.9700  0.6919   \n",
       "\n",
       "      g-4     g-5  ...    c-90    c-91    c-92    c-93    c-94    c-95  \\\n",
       "0 -0.1944 -1.0120  ...  0.2862  0.2584  0.8076  0.5523 -0.1912  0.6584   \n",
       "1  1.0190  0.5207  ... -0.4265  0.7543  0.4708  0.0230  0.2957  0.4899   \n",
       "2 -0.0323  1.2390  ... -0.7250 -0.6297  0.6103  0.0223 -1.3240 -0.3174   \n",
       "3  4.0620 -0.8095  ... -2.0990 -0.6441 -5.6300 -1.3780 -0.8632 -1.2880   \n",
       "4  1.4180 -0.8244  ...  0.0042  0.0048  0.6670  1.0690  0.5523 -0.3031   \n",
       "\n",
       "     c-96    c-97    c-98    c-99  \n",
       "0 -0.3981  0.2139  0.3801  0.4176  \n",
       "1  0.1522  0.1241  0.6077  0.7371  \n",
       "2 -0.6417 -0.2187 -1.4080  0.6931  \n",
       "3 -1.6210 -0.8784 -0.3876 -0.8154  \n",
       "4  0.1094  0.2885 -0.3786  0.7125  \n",
       "\n",
       "[5 rows x 876 columns]"
      ]
     },
     "execution_count": 48,
     "metadata": {},
     "output_type": "execute_result"
    }
   ],
   "source": [
    "for d in [new_train_features_data, test_features]:\n",
    "    d.drop(['sig_id','cp_type', 'cp_dose', 'cp_time'], axis=1, inplace=True)\n",
    "    \n",
    "train_features.head()"
   ]
  },
  {
   "cell_type": "markdown",
   "metadata": {
    "papermill": {
     "duration": 0.086791,
     "end_time": "2020-10-05T07:03:37.208175",
     "exception": false,
     "start_time": "2020-10-05T07:03:37.121384",
     "status": "completed"
    },
    "tags": []
   },
   "source": [
    "# Model Building"
   ]
  },
  {
   "cell_type": "code",
   "execution_count": 49,
   "metadata": {
    "execution": {
     "iopub.execute_input": "2020-10-05T07:03:37.388458Z",
     "iopub.status.busy": "2020-10-05T07:03:37.387234Z",
     "iopub.status.idle": "2020-10-05T07:03:37.598732Z",
     "shell.execute_reply": "2020-10-05T07:03:37.598083Z"
    },
    "papermill": {
     "duration": 0.304695,
     "end_time": "2020-10-05T07:03:37.598874",
     "exception": false,
     "start_time": "2020-10-05T07:03:37.294179",
     "status": "completed"
    },
    "tags": []
   },
   "outputs": [],
   "source": [
    "x_train, x_cv, y_train, y_cv = train_test_split(new_train_features_data, train_targets_scored, test_size=0.2) "
   ]
  },
  {
   "cell_type": "code",
   "execution_count": 50,
   "metadata": {
    "execution": {
     "iopub.execute_input": "2020-10-05T07:03:37.786465Z",
     "iopub.status.busy": "2020-10-05T07:03:37.785581Z",
     "iopub.status.idle": "2020-10-05T07:03:38.186694Z",
     "shell.execute_reply": "2020-10-05T07:03:38.185665Z"
    },
    "papermill": {
     "duration": 0.501397,
     "end_time": "2020-10-05T07:03:38.186887",
     "exception": false,
     "start_time": "2020-10-05T07:03:37.685490",
     "status": "completed"
    },
    "tags": []
   },
   "outputs": [
    {
     "name": "stdout",
     "output_type": "stream",
     "text": [
      "Model: \"sequential\"\n",
      "_________________________________________________________________\n",
      "Layer (type)                 Output Shape              Param #   \n",
      "=================================================================\n",
      "dense (Dense)                (None, 512)               431616    \n",
      "_________________________________________________________________\n",
      "batch_normalization (BatchNo (None, 512)               2048      \n",
      "_________________________________________________________________\n",
      "dropout (Dropout)            (None, 512)               0         \n",
      "_________________________________________________________________\n",
      "dense_1 (Dense)              (None, 1024)              525312    \n",
      "_________________________________________________________________\n",
      "batch_normalization_1 (Batch (None, 1024)              4096      \n",
      "_________________________________________________________________\n",
      "dropout_1 (Dropout)          (None, 1024)              0         \n",
      "_________________________________________________________________\n",
      "dense_2 (Dense)              (None, 1024)              1049600   \n",
      "_________________________________________________________________\n",
      "batch_normalization_2 (Batch (None, 1024)              4096      \n",
      "_________________________________________________________________\n",
      "dropout_2 (Dropout)          (None, 1024)              0         \n",
      "_________________________________________________________________\n",
      "dense_3 (Dense)              (None, 512)               524800    \n",
      "_________________________________________________________________\n",
      "batch_normalization_3 (Batch (None, 512)               2048      \n",
      "_________________________________________________________________\n",
      "dropout_3 (Dropout)          (None, 512)               0         \n",
      "_________________________________________________________________\n",
      "dense_4 (Dense)              (None, 206)               105678    \n",
      "=================================================================\n",
      "Total params: 2,649,294\n",
      "Trainable params: 2,643,150\n",
      "Non-trainable params: 6,144\n",
      "_________________________________________________________________\n"
     ]
    }
   ],
   "source": [
    "model = tf.keras.models.Sequential([\n",
    "    tf.keras.layers.Dense(512, input_dim=x_train.shape[1], activation='relu'),\n",
    "    tf.keras.layers.BatchNormalization(),\n",
    "    tf.keras.layers.Dropout(.25),\n",
    "    tf.keras.layers.Dense(1024, activation='relu'),\n",
    "    tf.keras.layers.BatchNormalization(),\n",
    "    tf.keras.layers.Dropout(.25),\n",
    "    tf.keras.layers.Dense(1024, activation='relu'),\n",
    "    tf.keras.layers.BatchNormalization(),\n",
    "    tf.keras.layers.Dropout(.25),\n",
    "    tf.keras.layers.Dense(512, activation='relu'),\n",
    "    tf.keras.layers.BatchNormalization(),\n",
    "    tf.keras.layers.Dropout(.25),\n",
    "    tf.keras.layers.Dense(y_train.shape[1], activation='sigmoid')\n",
    "])\n",
    "\n",
    "model.compile(\n",
    "    optimizer='adam',\n",
    "    loss='binary_crossentropy',\n",
    "    metrics=['accuracy']\n",
    ")\n",
    "\n",
    "model.summary()"
   ]
  },
  {
   "cell_type": "code",
   "execution_count": 51,
   "metadata": {
    "execution": {
     "iopub.execute_input": "2020-10-05T07:03:38.385522Z",
     "iopub.status.busy": "2020-10-05T07:03:38.384580Z",
     "iopub.status.idle": "2020-10-05T07:30:56.591493Z",
     "shell.execute_reply": "2020-10-05T07:30:56.590782Z"
    },
    "papermill": {
     "duration": 1638.314649,
     "end_time": "2020-10-05T07:30:56.591674",
     "exception": false,
     "start_time": "2020-10-05T07:03:38.277025",
     "status": "completed"
    },
    "tags": []
   },
   "outputs": [
    {
     "name": "stdout",
     "output_type": "stream",
     "text": [
      "Epoch 1/359\n",
      "54/54 [==============================] - 5s 84ms/step - loss: 0.8402\n",
      "Epoch 2/359\n",
      "54/54 [==============================] - 4s 80ms/step - loss: 0.7676\n",
      "Epoch 3/359\n",
      "54/54 [==============================] - 4s 80ms/step - loss: 0.7360\n",
      "Epoch 4/359\n",
      "54/54 [==============================] - 4s 80ms/step - loss: 0.7203\n",
      "Epoch 5/359\n",
      "54/54 [==============================] - 4s 78ms/step - loss: 0.7055\n",
      "Epoch 6/359\n",
      "54/54 [==============================] - 4s 80ms/step - loss: 0.6894\n",
      "Epoch 7/359\n",
      "54/54 [==============================] - 5s 88ms/step - loss: 0.6692\n",
      "Epoch 8/359\n",
      "54/54 [==============================] - 5s 85ms/step - loss: 0.6435\n",
      "Epoch 9/359\n",
      "54/54 [==============================] - 4s 81ms/step - loss: 0.6126\n",
      "Epoch 10/359\n",
      "54/54 [==============================] - 4s 81ms/step - loss: 0.5767\n",
      "Epoch 11/359\n",
      "54/54 [==============================] - 4s 80ms/step - loss: 0.5371\n",
      "Epoch 12/359\n",
      "54/54 [==============================] - 4s 78ms/step - loss: 0.4946\n",
      "Epoch 13/359\n",
      "54/54 [==============================] - 4s 78ms/step - loss: 0.4502\n",
      "Epoch 14/359\n",
      "54/54 [==============================] - 5s 87ms/step - loss: 0.4079\n",
      "Epoch 15/359\n",
      "54/54 [==============================] - 4s 81ms/step - loss: 0.3628\n",
      "Epoch 16/359\n",
      "54/54 [==============================] - 4s 80ms/step - loss: 0.3244\n",
      "Epoch 17/359\n",
      "54/54 [==============================] - 4s 80ms/step - loss: 0.2872\n",
      "Epoch 18/359\n",
      "54/54 [==============================] - 5s 84ms/step - loss: 0.2542\n",
      "Epoch 19/359\n",
      "54/54 [==============================] - 4s 77ms/step - loss: 0.2244\n",
      "Epoch 20/359\n",
      "54/54 [==============================] - 5s 86ms/step - loss: 0.1986\n",
      "Epoch 21/359\n",
      "54/54 [==============================] - 5s 88ms/step - loss: 0.1784\n",
      "Epoch 22/359\n",
      "54/54 [==============================] - 4s 82ms/step - loss: 0.1572\n",
      "Epoch 23/359\n",
      "54/54 [==============================] - 4s 81ms/step - loss: 0.1403\n",
      "Epoch 24/359\n",
      "54/54 [==============================] - 4s 81ms/step - loss: 0.1259\n",
      "Epoch 25/359\n",
      "54/54 [==============================] - 4s 78ms/step - loss: 0.1151\n",
      "Epoch 26/359\n",
      "54/54 [==============================] - 4s 79ms/step - loss: 0.1036\n",
      "Epoch 27/359\n",
      "54/54 [==============================] - 5s 84ms/step - loss: 0.0944\n",
      "Epoch 28/359\n",
      "54/54 [==============================] - 4s 80ms/step - loss: 0.0863\n",
      "Epoch 29/359\n",
      "54/54 [==============================] - 4s 78ms/step - loss: 0.0801\n",
      "Epoch 30/359\n",
      "54/54 [==============================] - 4s 78ms/step - loss: 0.0743\n",
      "Epoch 31/359\n",
      "54/54 [==============================] - 4s 82ms/step - loss: 0.0688\n",
      "Epoch 32/359\n",
      "54/54 [==============================] - 4s 79ms/step - loss: 0.0642\n",
      "Epoch 33/359\n",
      "54/54 [==============================] - 4s 80ms/step - loss: 0.0602\n",
      "Epoch 34/359\n",
      "54/54 [==============================] - 5s 94ms/step - loss: 0.0571\n",
      "Epoch 35/359\n",
      "54/54 [==============================] - 4s 82ms/step - loss: 0.0539\n",
      "Epoch 36/359\n",
      "54/54 [==============================] - 5s 89ms/step - loss: 0.0513\n",
      "Epoch 37/359\n",
      "54/54 [==============================] - 5s 83ms/step - loss: 0.0487\n",
      "Epoch 38/359\n",
      "54/54 [==============================] - 4s 81ms/step - loss: 0.0471\n",
      "Epoch 39/359\n",
      "54/54 [==============================] - 4s 77ms/step - loss: 0.0447\n",
      "Epoch 40/359\n",
      "54/54 [==============================] - 4s 81ms/step - loss: 0.0436\n",
      "Epoch 41/359\n",
      "54/54 [==============================] - 5s 85ms/step - loss: 0.0418\n",
      "Epoch 42/359\n",
      "54/54 [==============================] - 4s 78ms/step - loss: 0.0401\n",
      "Epoch 43/359\n",
      "54/54 [==============================] - 4s 79ms/step - loss: 0.0392\n",
      "Epoch 44/359\n",
      "54/54 [==============================] - 4s 77ms/step - loss: 0.0381\n",
      "Epoch 45/359\n",
      "54/54 [==============================] - 4s 82ms/step - loss: 0.0364\n",
      "Epoch 46/359\n",
      "54/54 [==============================] - 4s 79ms/step - loss: 0.0355\n",
      "Epoch 47/359\n",
      "54/54 [==============================] - 5s 88ms/step - loss: 0.0349\n",
      "Epoch 48/359\n",
      "54/54 [==============================] - 5s 95ms/step - loss: 0.0340\n",
      "Epoch 49/359\n",
      "54/54 [==============================] - 5s 88ms/step - loss: 0.0330\n",
      "Epoch 50/359\n",
      "54/54 [==============================] - 5s 92ms/step - loss: 0.0329\n",
      "Epoch 51/359\n",
      "54/54 [==============================] - 5s 87ms/step - loss: 0.0318\n",
      "Epoch 52/359\n",
      "54/54 [==============================] - 4s 78ms/step - loss: 0.0311\n",
      "Epoch 53/359\n",
      "54/54 [==============================] - 4s 80ms/step - loss: 0.0309\n",
      "Epoch 54/359\n",
      "54/54 [==============================] - 4s 80ms/step - loss: 0.0300\n",
      "Epoch 55/359\n",
      "54/54 [==============================] - 5s 88ms/step - loss: 0.0294\n",
      "Epoch 56/359\n",
      "54/54 [==============================] - 4s 78ms/step - loss: 0.0289\n",
      "Epoch 57/359\n",
      "54/54 [==============================] - 4s 78ms/step - loss: 0.0290\n",
      "Epoch 58/359\n",
      "54/54 [==============================] - 4s 77ms/step - loss: 0.0280\n",
      "Epoch 59/359\n",
      "54/54 [==============================] - 4s 80ms/step - loss: 0.0279\n",
      "Epoch 60/359\n",
      "54/54 [==============================] - 5s 86ms/step - loss: 0.0273\n",
      "Epoch 61/359\n",
      "54/54 [==============================] - 5s 84ms/step - loss: 0.0276\n",
      "Epoch 62/359\n",
      "54/54 [==============================] - 5s 87ms/step - loss: 0.0269\n",
      "Epoch 63/359\n",
      "54/54 [==============================] - 4s 81ms/step - loss: 0.0265\n",
      "Epoch 64/359\n",
      "54/54 [==============================] - 4s 79ms/step - loss: 0.0262\n",
      "Epoch 65/359\n",
      "54/54 [==============================] - 4s 78ms/step - loss: 0.0260\n",
      "Epoch 66/359\n",
      "54/54 [==============================] - 4s 81ms/step - loss: 0.0259\n",
      "Epoch 67/359\n",
      "54/54 [==============================] - 4s 83ms/step - loss: 0.0255\n",
      "Epoch 68/359\n",
      "54/54 [==============================] - 4s 79ms/step - loss: 0.0252\n",
      "Epoch 69/359\n",
      "54/54 [==============================] - 4s 78ms/step - loss: 0.0253\n",
      "Epoch 70/359\n",
      "54/54 [==============================] - 5s 90ms/step - loss: 0.0247\n",
      "Epoch 71/359\n",
      "54/54 [==============================] - 4s 79ms/step - loss: 0.0245\n",
      "Epoch 72/359\n",
      "54/54 [==============================] - 4s 78ms/step - loss: 0.0245\n",
      "Epoch 73/359\n",
      "54/54 [==============================] - 5s 84ms/step - loss: 0.0242\n",
      "Epoch 74/359\n",
      "54/54 [==============================] - 5s 85ms/step - loss: 0.0241\n",
      "Epoch 75/359\n",
      "54/54 [==============================] - 4s 81ms/step - loss: 0.0240\n",
      "Epoch 76/359\n",
      "54/54 [==============================] - 4s 78ms/step - loss: 0.0236\n",
      "Epoch 77/359\n",
      "54/54 [==============================] - 5s 89ms/step - loss: 0.0239\n",
      "Epoch 78/359\n",
      "54/54 [==============================] - 4s 77ms/step - loss: 0.0233\n",
      "Epoch 79/359\n",
      "54/54 [==============================] - 4s 78ms/step - loss: 0.0231\n",
      "Epoch 80/359\n",
      "54/54 [==============================] - 5s 87ms/step - loss: 0.0231\n",
      "Epoch 81/359\n",
      "54/54 [==============================] - 5s 93ms/step - loss: 0.0229\n",
      "Epoch 82/359\n",
      "54/54 [==============================] - 5s 94ms/step - loss: 0.0227\n",
      "Epoch 83/359\n",
      "54/54 [==============================] - 4s 78ms/step - loss: 0.0226\n",
      "Epoch 84/359\n",
      "54/54 [==============================] - 5s 89ms/step - loss: 0.0228\n",
      "Epoch 85/359\n",
      "54/54 [==============================] - 4s 78ms/step - loss: 0.0223\n",
      "Epoch 86/359\n",
      "54/54 [==============================] - 5s 84ms/step - loss: 0.0224\n",
      "Epoch 87/359\n",
      "54/54 [==============================] - 5s 87ms/step - loss: 0.0224\n",
      "Epoch 88/359\n",
      "54/54 [==============================] - 4s 80ms/step - loss: 0.0221\n",
      "Epoch 89/359\n",
      "54/54 [==============================] - 4s 80ms/step - loss: 0.0220\n",
      "Epoch 90/359\n",
      "54/54 [==============================] - 4s 78ms/step - loss: 0.0219\n",
      "Epoch 91/359\n",
      "54/54 [==============================] - 5s 86ms/step - loss: 0.0218\n",
      "Epoch 92/359\n",
      "54/54 [==============================] - 5s 86ms/step - loss: 0.0219\n",
      "Epoch 93/359\n",
      "54/54 [==============================] - 4s 82ms/step - loss: 0.0217\n",
      "Epoch 94/359\n",
      "54/54 [==============================] - 5s 85ms/step - loss: 0.0215\n",
      "Epoch 95/359\n",
      "54/54 [==============================] - 4s 78ms/step - loss: 0.0217\n",
      "Epoch 96/359\n",
      "54/54 [==============================] - 4s 80ms/step - loss: 0.0214\n",
      "Epoch 97/359\n",
      "54/54 [==============================] - 4s 77ms/step - loss: 0.0214\n",
      "Epoch 98/359\n",
      "54/54 [==============================] - 4s 78ms/step - loss: 0.0213\n",
      "Epoch 99/359\n",
      "54/54 [==============================] - 5s 97ms/step - loss: 0.0210\n",
      "Epoch 100/359\n",
      "54/54 [==============================] - 5s 86ms/step - loss: 0.0210\n",
      "Epoch 101/359\n",
      "54/54 [==============================] - 5s 84ms/step - loss: 0.0209\n",
      "Epoch 102/359\n",
      "54/54 [==============================] - 4s 78ms/step - loss: 0.0208\n",
      "Epoch 103/359\n",
      "54/54 [==============================] - 4s 82ms/step - loss: 0.0207\n",
      "Epoch 104/359\n",
      "54/54 [==============================] - 5s 86ms/step - loss: 0.0207\n",
      "Epoch 105/359\n",
      "54/54 [==============================] - 4s 77ms/step - loss: 0.0208\n",
      "Epoch 106/359\n",
      "54/54 [==============================] - 5s 89ms/step - loss: 0.0206\n",
      "Epoch 107/359\n",
      "54/54 [==============================] - 5s 88ms/step - loss: 0.0205\n",
      "Epoch 108/359\n",
      "54/54 [==============================] - 4s 79ms/step - loss: 0.0204\n",
      "Epoch 109/359\n",
      "54/54 [==============================] - 4s 78ms/step - loss: 0.0205\n",
      "Epoch 110/359\n",
      "54/54 [==============================] - 4s 77ms/step - loss: 0.0203\n",
      "Epoch 111/359\n",
      "54/54 [==============================] - 4s 78ms/step - loss: 0.0205\n",
      "Epoch 112/359\n",
      "54/54 [==============================] - 4s 77ms/step - loss: 0.0203\n",
      "Epoch 113/359\n",
      "54/54 [==============================] - 5s 87ms/step - loss: 0.0201\n",
      "Epoch 114/359\n",
      "54/54 [==============================] - 5s 101ms/step - loss: 0.0200\n",
      "Epoch 115/359\n",
      "54/54 [==============================] - 4s 79ms/step - loss: 0.0199\n",
      "Epoch 116/359\n",
      "54/54 [==============================] - 4s 78ms/step - loss: 0.0201\n",
      "Epoch 117/359\n",
      "54/54 [==============================] - 4s 77ms/step - loss: 0.0201\n",
      "Epoch 118/359\n",
      "54/54 [==============================] - 4s 82ms/step - loss: 0.0200\n",
      "Epoch 119/359\n",
      "54/54 [==============================] - 5s 86ms/step - loss: 0.0199\n",
      "Epoch 120/359\n",
      "54/54 [==============================] - 5s 85ms/step - loss: 0.0198\n",
      "Epoch 121/359\n",
      "54/54 [==============================] - 5s 86ms/step - loss: 0.0196\n",
      "Epoch 122/359\n",
      "54/54 [==============================] - 5s 89ms/step - loss: 0.0196\n",
      "Epoch 123/359\n",
      "54/54 [==============================] - 4s 78ms/step - loss: 0.0197\n",
      "Epoch 124/359\n",
      "54/54 [==============================] - 4s 76ms/step - loss: 0.0196\n",
      "Epoch 125/359\n",
      "54/54 [==============================] - 4s 78ms/step - loss: 0.0195\n",
      "Epoch 126/359\n",
      "54/54 [==============================] - 5s 86ms/step - loss: 0.0195\n",
      "Epoch 127/359\n",
      "54/54 [==============================] - 4s 81ms/step - loss: 0.0194\n",
      "Epoch 128/359\n",
      "54/54 [==============================] - 4s 83ms/step - loss: 0.0194\n",
      "Epoch 129/359\n",
      "54/54 [==============================] - 5s 89ms/step - loss: 0.0197\n",
      "Epoch 130/359\n",
      "54/54 [==============================] - 5s 84ms/step - loss: 0.0193\n",
      "Epoch 131/359\n",
      "54/54 [==============================] - 4s 77ms/step - loss: 0.0192\n",
      "Epoch 132/359\n",
      "54/54 [==============================] - 4s 79ms/step - loss: 0.0193\n",
      "Epoch 133/359\n",
      "54/54 [==============================] - 4s 79ms/step - loss: 0.0191\n",
      "Epoch 134/359\n",
      "54/54 [==============================] - 4s 78ms/step - loss: 0.0191\n",
      "Epoch 135/359\n",
      "54/54 [==============================] - 4s 80ms/step - loss: 0.0191\n",
      "Epoch 136/359\n",
      "54/54 [==============================] - 4s 78ms/step - loss: 0.0190\n",
      "Epoch 137/359\n",
      "54/54 [==============================] - 5s 92ms/step - loss: 0.0189\n",
      "Epoch 138/359\n",
      "54/54 [==============================] - 4s 81ms/step - loss: 0.0190\n",
      "Epoch 139/359\n",
      "54/54 [==============================] - 4s 82ms/step - loss: 0.0189\n",
      "Epoch 140/359\n",
      "54/54 [==============================] - 5s 84ms/step - loss: 0.0190\n",
      "Epoch 141/359\n",
      "54/54 [==============================] - 4s 79ms/step - loss: 0.0188\n",
      "Epoch 142/359\n",
      "54/54 [==============================] - 4s 81ms/step - loss: 0.0189\n",
      "Epoch 143/359\n",
      "54/54 [==============================] - 4s 79ms/step - loss: 0.0188\n",
      "Epoch 144/359\n",
      "54/54 [==============================] - 4s 77ms/step - loss: 0.0187\n",
      "Epoch 145/359\n",
      "54/54 [==============================] - 5s 97ms/step - loss: 0.0187\n",
      "Epoch 146/359\n",
      "54/54 [==============================] - 4s 81ms/step - loss: 0.0186\n",
      "Epoch 147/359\n",
      "54/54 [==============================] - 4s 79ms/step - loss: 0.0186\n",
      "Epoch 148/359\n",
      "54/54 [==============================] - 4s 78ms/step - loss: 0.0187\n",
      "Epoch 149/359\n",
      "54/54 [==============================] - 4s 80ms/step - loss: 0.0186\n",
      "Epoch 150/359\n",
      "54/54 [==============================] - 4s 77ms/step - loss: 0.0186\n",
      "Epoch 151/359\n",
      "54/54 [==============================] - 4s 76ms/step - loss: 0.0185\n",
      "Epoch 152/359\n",
      "54/54 [==============================] - 4s 78ms/step - loss: 0.0185\n",
      "Epoch 153/359\n",
      "54/54 [==============================] - 6s 106ms/step - loss: 0.0185\n",
      "Epoch 154/359\n",
      "54/54 [==============================] - 5s 84ms/step - loss: 0.0183\n",
      "Epoch 155/359\n",
      "54/54 [==============================] - 4s 79ms/step - loss: 0.0184\n",
      "Epoch 156/359\n",
      "54/54 [==============================] - 4s 79ms/step - loss: 0.0185\n",
      "Epoch 157/359\n",
      "54/54 [==============================] - 4s 79ms/step - loss: 0.0183\n",
      "Epoch 158/359\n",
      "54/54 [==============================] - 4s 77ms/step - loss: 0.0184\n",
      "Epoch 159/359\n",
      "54/54 [==============================] - 4s 79ms/step - loss: 0.0183\n",
      "Epoch 160/359\n",
      "54/54 [==============================] - 4s 79ms/step - loss: 0.0184\n",
      "Epoch 161/359\n",
      "54/54 [==============================] - 5s 96ms/step - loss: 0.0190\n",
      "Epoch 162/359\n",
      "54/54 [==============================] - 4s 82ms/step - loss: 0.0182\n",
      "Epoch 163/359\n",
      "54/54 [==============================] - 4s 79ms/step - loss: 0.0182\n",
      "Epoch 164/359\n",
      "54/54 [==============================] - 4s 78ms/step - loss: 0.0181\n",
      "Epoch 165/359\n",
      "54/54 [==============================] - 4s 77ms/step - loss: 0.0181\n",
      "Epoch 166/359\n",
      "54/54 [==============================] - 4s 83ms/step - loss: 0.0181\n",
      "Epoch 167/359\n",
      "54/54 [==============================] - 5s 85ms/step - loss: 0.0181\n",
      "Epoch 168/359\n",
      "54/54 [==============================] - 4s 80ms/step - loss: 0.0182\n",
      "Epoch 169/359\n",
      "54/54 [==============================] - 5s 97ms/step - loss: 0.0181\n",
      "Epoch 170/359\n",
      "54/54 [==============================] - 4s 82ms/step - loss: 0.0180\n",
      "Epoch 171/359\n",
      "54/54 [==============================] - 4s 80ms/step - loss: 0.0179\n",
      "Epoch 172/359\n",
      "54/54 [==============================] - 5s 85ms/step - loss: 0.0180\n",
      "Epoch 173/359\n",
      "54/54 [==============================] - 4s 79ms/step - loss: 0.0180\n",
      "Epoch 174/359\n",
      "54/54 [==============================] - 4s 79ms/step - loss: 0.0180\n",
      "Epoch 175/359\n",
      "54/54 [==============================] - 4s 77ms/step - loss: 0.0178\n",
      "Epoch 176/359\n",
      "54/54 [==============================] - 4s 78ms/step - loss: 0.0179\n",
      "Epoch 177/359\n",
      "54/54 [==============================] - 5s 98ms/step - loss: 0.0178\n",
      "Epoch 178/359\n",
      "54/54 [==============================] - 4s 82ms/step - loss: 0.0178\n",
      "Epoch 179/359\n",
      "54/54 [==============================] - 5s 85ms/step - loss: 0.0179\n",
      "Epoch 180/359\n",
      "54/54 [==============================] - 5s 86ms/step - loss: 0.0179\n",
      "Epoch 181/359\n",
      "54/54 [==============================] - 4s 82ms/step - loss: 0.0178\n",
      "Epoch 182/359\n",
      "54/54 [==============================] - 4s 78ms/step - loss: 0.0178\n",
      "Epoch 183/359\n",
      "54/54 [==============================] - 4s 78ms/step - loss: 0.0177\n",
      "Epoch 184/359\n",
      "54/54 [==============================] - 4s 79ms/step - loss: 0.0177\n",
      "Epoch 185/359\n",
      "54/54 [==============================] - 5s 94ms/step - loss: 0.0178\n",
      "Epoch 186/359\n",
      "54/54 [==============================] - 5s 88ms/step - loss: 0.0176\n",
      "Epoch 187/359\n",
      "54/54 [==============================] - 5s 89ms/step - loss: 0.0178\n",
      "Epoch 188/359\n",
      "54/54 [==============================] - 5s 86ms/step - loss: 0.0177\n",
      "Epoch 189/359\n",
      "54/54 [==============================] - 4s 77ms/step - loss: 0.0177\n",
      "Epoch 190/359\n",
      "54/54 [==============================] - 4s 77ms/step - loss: 0.0178\n",
      "Epoch 191/359\n",
      "54/54 [==============================] - 4s 81ms/step - loss: 0.0177\n",
      "Epoch 192/359\n",
      "54/54 [==============================] - 4s 83ms/step - loss: 0.0176\n",
      "Epoch 193/359\n",
      "54/54 [==============================] - 6s 104ms/step - loss: 0.0175\n",
      "Epoch 194/359\n",
      "54/54 [==============================] - 5s 86ms/step - loss: 0.0176\n",
      "Epoch 195/359\n",
      "54/54 [==============================] - 4s 79ms/step - loss: 0.0174\n",
      "Epoch 196/359\n",
      "54/54 [==============================] - 4s 76ms/step - loss: 0.0175\n",
      "Epoch 197/359\n",
      "54/54 [==============================] - 4s 77ms/step - loss: 0.0174\n",
      "Epoch 198/359\n",
      "54/54 [==============================] - 4s 80ms/step - loss: 0.0174\n",
      "Epoch 199/359\n",
      "54/54 [==============================] - 4s 78ms/step - loss: 0.0174\n",
      "Epoch 200/359\n",
      "54/54 [==============================] - 4s 79ms/step - loss: 0.0174\n",
      "Epoch 201/359\n",
      "54/54 [==============================] - 5s 91ms/step - loss: 0.0173\n",
      "Epoch 202/359\n",
      "54/54 [==============================] - 5s 90ms/step - loss: 0.0173\n",
      "Epoch 203/359\n",
      "54/54 [==============================] - 4s 78ms/step - loss: 0.0173\n",
      "Epoch 204/359\n",
      "54/54 [==============================] - 4s 76ms/step - loss: 0.0174\n",
      "Epoch 205/359\n",
      "54/54 [==============================] - 5s 86ms/step - loss: 0.0172\n",
      "Epoch 206/359\n",
      "54/54 [==============================] - 4s 82ms/step - loss: 0.0173\n",
      "Epoch 207/359\n",
      "54/54 [==============================] - 4s 79ms/step - loss: 0.0172\n",
      "Epoch 208/359\n",
      "54/54 [==============================] - 4s 80ms/step - loss: 0.0172\n",
      "Epoch 209/359\n",
      "54/54 [==============================] - 4s 77ms/step - loss: 0.0173\n",
      "Epoch 210/359\n",
      "54/54 [==============================] - 4s 78ms/step - loss: 0.0174\n",
      "Epoch 211/359\n",
      "54/54 [==============================] - 4s 77ms/step - loss: 0.0172\n",
      "Epoch 212/359\n",
      "54/54 [==============================] - 4s 81ms/step - loss: 0.0172\n",
      "Epoch 213/359\n",
      "54/54 [==============================] - 4s 80ms/step - loss: 0.0171\n",
      "Epoch 214/359\n",
      "54/54 [==============================] - 4s 78ms/step - loss: 0.0171\n",
      "Epoch 215/359\n",
      "54/54 [==============================] - 5s 90ms/step - loss: 0.0170\n",
      "Epoch 216/359\n",
      "54/54 [==============================] - 6s 116ms/step - loss: 0.0172\n",
      "Epoch 217/359\n",
      "54/54 [==============================] - 5s 91ms/step - loss: 0.0171\n",
      "Epoch 218/359\n",
      "54/54 [==============================] - 5s 85ms/step - loss: 0.0171\n",
      "Epoch 219/359\n",
      "54/54 [==============================] - 5s 85ms/step - loss: 0.0170\n",
      "Epoch 220/359\n",
      "54/54 [==============================] - 4s 78ms/step - loss: 0.0171\n",
      "Epoch 221/359\n",
      "54/54 [==============================] - 4s 78ms/step - loss: 0.0170\n",
      "Epoch 222/359\n",
      "54/54 [==============================] - 4s 82ms/step - loss: 0.0170\n",
      "Epoch 223/359\n",
      "54/54 [==============================] - 4s 77ms/step - loss: 0.0170\n",
      "Epoch 224/359\n",
      "54/54 [==============================] - 4s 78ms/step - loss: 0.0169\n",
      "Epoch 225/359\n",
      "54/54 [==============================] - 4s 79ms/step - loss: 0.0169\n",
      "Epoch 226/359\n",
      "54/54 [==============================] - 4s 81ms/step - loss: 0.0170\n",
      "Epoch 227/359\n",
      "54/54 [==============================] - 4s 80ms/step - loss: 0.0169\n",
      "Epoch 228/359\n",
      "54/54 [==============================] - 4s 77ms/step - loss: 0.0169\n",
      "Epoch 229/359\n",
      "54/54 [==============================] - 4s 78ms/step - loss: 0.0169\n",
      "Epoch 230/359\n",
      "54/54 [==============================] - 4s 77ms/step - loss: 0.0169\n",
      "Epoch 231/359\n",
      "54/54 [==============================] - 5s 92ms/step - loss: 0.0169\n",
      "Epoch 232/359\n",
      "54/54 [==============================] - 6s 103ms/step - loss: 0.0168\n",
      "Epoch 233/359\n",
      "54/54 [==============================] - 4s 83ms/step - loss: 0.0168\n",
      "Epoch 234/359\n",
      "54/54 [==============================] - 4s 80ms/step - loss: 0.0168\n",
      "Epoch 235/359\n",
      "54/54 [==============================] - 4s 78ms/step - loss: 0.0168\n",
      "Epoch 236/359\n",
      "54/54 [==============================] - 4s 77ms/step - loss: 0.0168\n",
      "Epoch 237/359\n",
      "54/54 [==============================] - 4s 78ms/step - loss: 0.0168\n",
      "Epoch 238/359\n",
      "54/54 [==============================] - 4s 78ms/step - loss: 0.0168\n",
      "Epoch 239/359\n",
      "54/54 [==============================] - 5s 93ms/step - loss: 0.0167\n",
      "Epoch 240/359\n",
      "54/54 [==============================] - 4s 82ms/step - loss: 0.0167\n",
      "Epoch 241/359\n",
      "54/54 [==============================] - 4s 78ms/step - loss: 0.0167\n",
      "Epoch 242/359\n",
      "54/54 [==============================] - 4s 77ms/step - loss: 0.0167\n",
      "Epoch 243/359\n",
      "54/54 [==============================] - 4s 77ms/step - loss: 0.0167\n",
      "Epoch 244/359\n",
      "54/54 [==============================] - 4s 78ms/step - loss: 0.0167\n",
      "Epoch 245/359\n",
      "54/54 [==============================] - 5s 86ms/step - loss: 0.0166\n",
      "Epoch 246/359\n",
      "54/54 [==============================] - 5s 97ms/step - loss: 0.0168\n",
      "Epoch 247/359\n",
      "54/54 [==============================] - 5s 97ms/step - loss: 0.0167\n",
      "Epoch 248/359\n",
      "54/54 [==============================] - 4s 80ms/step - loss: 0.0166\n",
      "Epoch 249/359\n",
      "54/54 [==============================] - 4s 78ms/step - loss: 0.0166\n",
      "Epoch 250/359\n",
      "54/54 [==============================] - 4s 77ms/step - loss: 0.0166\n",
      "Epoch 251/359\n",
      "54/54 [==============================] - 4s 78ms/step - loss: 0.0166\n",
      "Epoch 252/359\n",
      "54/54 [==============================] - 4s 79ms/step - loss: 0.0166\n",
      "Epoch 253/359\n",
      "54/54 [==============================] - 4s 78ms/step - loss: 0.0165\n",
      "Epoch 254/359\n",
      "54/54 [==============================] - 4s 80ms/step - loss: 0.0165\n",
      "Epoch 255/359\n",
      "54/54 [==============================] - 4s 80ms/step - loss: 0.0165\n",
      "Epoch 256/359\n",
      "54/54 [==============================] - 5s 84ms/step - loss: 0.0166\n",
      "Epoch 257/359\n",
      "54/54 [==============================] - 4s 82ms/step - loss: 0.0165\n",
      "Epoch 258/359\n",
      "54/54 [==============================] - 4s 83ms/step - loss: 0.0166\n",
      "Epoch 259/359\n",
      "54/54 [==============================] - 5s 86ms/step - loss: 0.0165\n",
      "Epoch 260/359\n",
      "54/54 [==============================] - 4s 80ms/step - loss: 0.0164\n",
      "Epoch 261/359\n",
      "54/54 [==============================] - 5s 89ms/step - loss: 0.0164\n",
      "Epoch 262/359\n",
      "54/54 [==============================] - 5s 95ms/step - loss: 0.0165\n",
      "Epoch 263/359\n",
      "54/54 [==============================] - 5s 88ms/step - loss: 0.0165\n",
      "Epoch 264/359\n",
      "54/54 [==============================] - 4s 79ms/step - loss: 0.0164\n",
      "Epoch 265/359\n",
      "54/54 [==============================] - 4s 82ms/step - loss: 0.0164\n",
      "Epoch 266/359\n",
      "54/54 [==============================] - 4s 79ms/step - loss: 0.0164\n",
      "Epoch 267/359\n",
      "54/54 [==============================] - 4s 80ms/step - loss: 0.0164\n",
      "Epoch 268/359\n",
      "54/54 [==============================] - 4s 80ms/step - loss: 0.0163\n",
      "Epoch 269/359\n",
      "54/54 [==============================] - 4s 77ms/step - loss: 0.0163\n",
      "Epoch 270/359\n",
      "54/54 [==============================] - 4s 79ms/step - loss: 0.0163\n",
      "Epoch 271/359\n",
      "54/54 [==============================] - 5s 84ms/step - loss: 0.0164\n",
      "Epoch 272/359\n",
      "54/54 [==============================] - 5s 84ms/step - loss: 0.0163\n",
      "Epoch 273/359\n",
      "54/54 [==============================] - 5s 87ms/step - loss: 0.0163\n",
      "Epoch 274/359\n",
      "54/54 [==============================] - 4s 79ms/step - loss: 0.0163\n",
      "Epoch 275/359\n",
      "54/54 [==============================] - 4s 80ms/step - loss: 0.0162\n",
      "Epoch 276/359\n",
      "54/54 [==============================] - 4s 76ms/step - loss: 0.0163\n",
      "Epoch 277/359\n",
      "54/54 [==============================] - 5s 94ms/step - loss: 0.0163\n",
      "Epoch 278/359\n",
      "54/54 [==============================] - 5s 98ms/step - loss: 0.0163\n",
      "Epoch 279/359\n",
      "54/54 [==============================] - 4s 78ms/step - loss: 0.0162\n",
      "Epoch 280/359\n",
      "54/54 [==============================] - 4s 79ms/step - loss: 0.0162\n",
      "Epoch 281/359\n",
      "54/54 [==============================] - 4s 79ms/step - loss: 0.0162\n",
      "Epoch 282/359\n",
      "54/54 [==============================] - 4s 77ms/step - loss: 0.0162\n",
      "Epoch 283/359\n",
      "54/54 [==============================] - 4s 78ms/step - loss: 0.0162\n",
      "Epoch 284/359\n",
      "54/54 [==============================] - 4s 77ms/step - loss: 0.0161\n",
      "Epoch 285/359\n",
      "54/54 [==============================] - 5s 84ms/step - loss: 0.0161\n",
      "Epoch 286/359\n",
      "54/54 [==============================] - 4s 82ms/step - loss: 0.0162\n",
      "Epoch 287/359\n",
      "54/54 [==============================] - 4s 79ms/step - loss: 0.0162\n",
      "Epoch 288/359\n",
      "54/54 [==============================] - 4s 78ms/step - loss: 0.0161\n",
      "Epoch 289/359\n",
      "54/54 [==============================] - 4s 79ms/step - loss: 0.0162\n",
      "Epoch 290/359\n",
      "54/54 [==============================] - 4s 78ms/step - loss: 0.0161\n",
      "Epoch 291/359\n",
      "54/54 [==============================] - 4s 78ms/step - loss: 0.0161\n",
      "Epoch 292/359\n",
      "54/54 [==============================] - 5s 84ms/step - loss: 0.0160\n",
      "Epoch 293/359\n",
      "54/54 [==============================] - 5s 97ms/step - loss: 0.0160\n",
      "Epoch 294/359\n",
      "54/54 [==============================] - 5s 94ms/step - loss: 0.0161\n",
      "Epoch 295/359\n",
      "54/54 [==============================] - 4s 81ms/step - loss: 0.0160\n",
      "Epoch 296/359\n",
      "54/54 [==============================] - 4s 77ms/step - loss: 0.0160\n",
      "Epoch 297/359\n",
      "54/54 [==============================] - 4s 80ms/step - loss: 0.0160\n",
      "Epoch 298/359\n",
      "54/54 [==============================] - 5s 84ms/step - loss: 0.0160\n",
      "Epoch 299/359\n",
      "54/54 [==============================] - 4s 83ms/step - loss: 0.0160\n",
      "Epoch 300/359\n",
      "54/54 [==============================] - 4s 81ms/step - loss: 0.0160\n",
      "Epoch 301/359\n",
      "54/54 [==============================] - 4s 78ms/step - loss: 0.0160\n",
      "Epoch 302/359\n",
      "54/54 [==============================] - 4s 78ms/step - loss: 0.0160\n",
      "Epoch 303/359\n",
      "54/54 [==============================] - 4s 78ms/step - loss: 0.0160\n",
      "Epoch 304/359\n",
      "54/54 [==============================] - 4s 77ms/step - loss: 0.0159\n",
      "Epoch 305/359\n",
      "54/54 [==============================] - 4s 81ms/step - loss: 0.0159\n",
      "Epoch 306/359\n",
      "54/54 [==============================] - 4s 78ms/step - loss: 0.0159\n",
      "Epoch 307/359\n",
      "54/54 [==============================] - 5s 87ms/step - loss: 0.0160\n",
      "Epoch 308/359\n",
      "54/54 [==============================] - 5s 95ms/step - loss: 0.0158\n",
      "Epoch 309/359\n",
      "54/54 [==============================] - 6s 104ms/step - loss: 0.0159\n",
      "Epoch 310/359\n",
      "54/54 [==============================] - 5s 93ms/step - loss: 0.0159\n",
      "Epoch 311/359\n",
      "54/54 [==============================] - 5s 85ms/step - loss: 0.0158\n",
      "Epoch 312/359\n",
      "54/54 [==============================] - 4s 81ms/step - loss: 0.0158\n",
      "Epoch 313/359\n",
      "54/54 [==============================] - 4s 79ms/step - loss: 0.0158\n",
      "Epoch 314/359\n",
      "54/54 [==============================] - 4s 78ms/step - loss: 0.0158\n",
      "Epoch 315/359\n",
      "54/54 [==============================] - 4s 76ms/step - loss: 0.0158\n",
      "Epoch 316/359\n",
      "54/54 [==============================] - 4s 79ms/step - loss: 0.0158\n",
      "Epoch 317/359\n",
      "54/54 [==============================] - 4s 77ms/step - loss: 0.0158\n",
      "Epoch 318/359\n",
      "54/54 [==============================] - 4s 79ms/step - loss: 0.0158\n",
      "Epoch 319/359\n",
      "54/54 [==============================] - 4s 80ms/step - loss: 0.0157\n",
      "Epoch 320/359\n",
      "54/54 [==============================] - 4s 82ms/step - loss: 0.0158\n",
      "Epoch 321/359\n",
      "54/54 [==============================] - 5s 85ms/step - loss: 0.0157\n",
      "Epoch 322/359\n",
      "54/54 [==============================] - 4s 83ms/step - loss: 0.0157\n",
      "Epoch 323/359\n",
      "54/54 [==============================] - 5s 84ms/step - loss: 0.0157\n",
      "Epoch 324/359\n",
      "54/54 [==============================] - 7s 124ms/step - loss: 0.0157\n",
      "Epoch 325/359\n",
      "54/54 [==============================] - 6s 119ms/step - loss: 0.0157\n",
      "Epoch 326/359\n",
      "54/54 [==============================] - 5s 90ms/step - loss: 0.0157\n",
      "Epoch 327/359\n",
      "54/54 [==============================] - 4s 79ms/step - loss: 0.0156\n",
      "Epoch 328/359\n",
      "54/54 [==============================] - 4s 78ms/step - loss: 0.0156\n",
      "Epoch 329/359\n",
      "54/54 [==============================] - 4s 79ms/step - loss: 0.0156\n",
      "Epoch 330/359\n",
      "54/54 [==============================] - 4s 80ms/step - loss: 0.0156\n",
      "Epoch 331/359\n",
      "54/54 [==============================] - 4s 78ms/step - loss: 0.0156\n",
      "Epoch 332/359\n",
      "54/54 [==============================] - 4s 78ms/step - loss: 0.0155\n",
      "Epoch 333/359\n",
      "54/54 [==============================] - 4s 79ms/step - loss: 0.0155\n",
      "Epoch 334/359\n",
      "54/54 [==============================] - 4s 77ms/step - loss: 0.0155\n",
      "Epoch 335/359\n",
      "54/54 [==============================] - 4s 80ms/step - loss: 0.0155\n",
      "Epoch 336/359\n",
      "54/54 [==============================] - 4s 79ms/step - loss: 0.0155\n",
      "Epoch 337/359\n",
      "54/54 [==============================] - 4s 83ms/step - loss: 0.0155\n",
      "Epoch 338/359\n",
      "54/54 [==============================] - 5s 84ms/step - loss: 0.0156\n",
      "Epoch 339/359\n",
      "54/54 [==============================] - 5s 91ms/step - loss: 0.0155\n",
      "Epoch 340/359\n",
      "54/54 [==============================] - 6s 103ms/step - loss: 0.0155\n",
      "Epoch 341/359\n",
      "54/54 [==============================] - 5s 100ms/step - loss: 0.0154\n",
      "Epoch 342/359\n",
      "54/54 [==============================] - 4s 83ms/step - loss: 0.0159\n",
      "Epoch 343/359\n",
      "54/54 [==============================] - 4s 80ms/step - loss: 0.0155\n",
      "Epoch 344/359\n",
      "54/54 [==============================] - 4s 78ms/step - loss: 0.0155\n",
      "Epoch 345/359\n",
      "54/54 [==============================] - 4s 78ms/step - loss: 0.0155\n",
      "Epoch 346/359\n",
      "54/54 [==============================] - 4s 77ms/step - loss: 0.0154\n",
      "Epoch 347/359\n",
      "54/54 [==============================] - 4s 78ms/step - loss: 0.0154\n",
      "Epoch 348/359\n",
      "54/54 [==============================] - 5s 86ms/step - loss: 0.0153\n",
      "Epoch 349/359\n",
      "54/54 [==============================] - 5s 95ms/step - loss: 0.0153\n",
      "Epoch 350/359\n",
      "54/54 [==============================] - 6s 114ms/step - loss: 0.0154\n",
      "Epoch 351/359\n",
      "54/54 [==============================] - 4s 82ms/step - loss: 0.0154\n",
      "Epoch 352/359\n",
      "54/54 [==============================] - 4s 80ms/step - loss: 0.0153\n",
      "Epoch 353/359\n",
      "54/54 [==============================] - 4s 78ms/step - loss: 0.0154\n",
      "Epoch 354/359\n",
      "54/54 [==============================] - 4s 77ms/step - loss: 0.0153\n",
      "Epoch 355/359\n",
      "54/54 [==============================] - 5s 94ms/step - loss: 0.0153\n",
      "Epoch 356/359\n",
      "54/54 [==============================] - 5s 101ms/step - loss: 0.0153\n",
      "Epoch 357/359\n",
      "54/54 [==============================] - 5s 88ms/step - loss: 0.0153\n",
      "Epoch 358/359\n",
      "54/54 [==============================] - 4s 78ms/step - loss: 0.0153\n",
      "Epoch 359/359\n",
      "54/54 [==============================] - 4s 78ms/step - loss: 0.0153\n"
     ]
    }
   ],
   "source": [
    "factor= 0.8250037987063858\n",
    "patience=2\n",
    "min_lr= 5.101088055532695e-05\n",
    "lr=6.353131263848553e-05\n",
    "batch_size=353\n",
    "epochs=359\n",
    "\n",
    "def callbacks(file_path):\n",
    "    reduce_learning_rate = ReduceLROnPlateau(monitor='val_loss',\n",
    "                                         factor=factor,\n",
    "                                         patience=patience,\n",
    "                                         cooldown=1,\n",
    "                                         min_lr=min_lr,\n",
    "                                         verbose=1)\n",
    "    checkpoint = ModelCheckpoint(filepath = file_path,monitor='val_loss',\n",
    "                                 mode='min',save_best_only=True,verbose=1)\n",
    "\n",
    "    early = EarlyStopping(monitor=\"val_loss\", mode=\"min\", patience= patience)\n",
    "\n",
    "    return [reduce_learning_rate,checkpoint,early]\n",
    "\n",
    "file_path = model.name+'best_weights.hd5'\n",
    "callbacks_list = callbacks(file_path = file_path)\n",
    "\n",
    "optimizer = tf.keras.optimizers.Adam(lr=lr, amsgrad=True)\n",
    "#compile the model\n",
    "model.compile(loss=tf.keras.losses.BinaryCrossentropy(), optimizer=optimizer)\n",
    "\n",
    "history=model.fit(x_train,y_train,epochs= epochs, batch_size=batch_size, callbacks = callbacks_list)"
   ]
  },
  {
   "cell_type": "code",
   "execution_count": 52,
   "metadata": {
    "execution": {
     "iopub.execute_input": "2020-10-05T07:31:13.074962Z",
     "iopub.status.busy": "2020-10-05T07:31:13.074136Z",
     "iopub.status.idle": "2020-10-05T07:31:14.683270Z",
     "shell.execute_reply": "2020-10-05T07:31:14.682454Z"
    },
    "papermill": {
     "duration": 9.940577,
     "end_time": "2020-10-05T07:31:14.683462",
     "exception": false,
     "start_time": "2020-10-05T07:31:04.742885",
     "status": "completed"
    },
    "tags": []
   },
   "outputs": [],
   "source": [
    "(test_targets[pd.read_csv('../input/lish-moa/sample_submission.csv').columns]).to_csv('submission.csv',index=False)"
   ]
  },
  {
   "cell_type": "code",
   "execution_count": null,
   "metadata": {
    "papermill": {
     "duration": 8.292637,
     "end_time": "2020-10-05T07:31:31.227837",
     "exception": false,
     "start_time": "2020-10-05T07:31:22.935200",
     "status": "completed"
    },
    "tags": []
   },
   "outputs": [],
   "source": []
  }
 ],
 "metadata": {
  "kernelspec": {
   "display_name": "Python 3",
   "language": "python",
   "name": "python3"
  },
  "language_info": {
   "codemirror_mode": {
    "name": "ipython",
    "version": 3
   },
   "file_extension": ".py",
   "mimetype": "text/x-python",
   "name": "python",
   "nbconvert_exporter": "python",
   "pygments_lexer": "ipython3",
   "version": "3.7.6"
  },
  "papermill": {
   "duration": 1793.769517,
   "end_time": "2020-10-05T07:31:39.564249",
   "environment_variables": {},
   "exception": null,
   "input_path": "__notebook__.ipynb",
   "output_path": "__notebook__.ipynb",
   "parameters": {},
   "start_time": "2020-10-05T07:01:45.794732",
   "version": "2.1.0"
  }
 },
 "nbformat": 4,
 "nbformat_minor": 4
}
